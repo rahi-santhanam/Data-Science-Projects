{
 "cells": [
  {
   "cell_type": "code",
   "execution_count": 1,
   "metadata": {
    "_cell_guid": "b1076dfc-b9ad-4769-8c92-a6c4dae69d19",
    "_uuid": "8f2839f25d086af736a60e9eeb907d3b93b6e0e5",
    "execution": {
     "iopub.execute_input": "2023-03-24T03:28:44.827266Z",
     "iopub.status.busy": "2023-03-24T03:28:44.826725Z",
     "iopub.status.idle": "2023-03-24T03:28:44.894427Z",
     "shell.execute_reply": "2023-03-24T03:28:44.892869Z",
     "shell.execute_reply.started": "2023-03-24T03:28:44.827219Z"
    }
   },
   "outputs": [],
   "source": [
    "# Import the packages\n",
    "\n",
    "import numpy as np # linear algebra\n",
    "import pandas as pd # data processing, CSV file I/O (e.g. pd.read_csv)\n"
   ]
  },
  {
   "cell_type": "code",
   "execution_count": 2,
   "metadata": {
    "execution": {
     "iopub.execute_input": "2023-03-24T03:29:35.058937Z",
     "iopub.status.busy": "2023-03-24T03:29:35.058473Z",
     "iopub.status.idle": "2023-03-24T03:29:35.206607Z",
     "shell.execute_reply": "2023-03-24T03:29:35.205675Z",
     "shell.execute_reply.started": "2023-03-24T03:29:35.058897Z"
    }
   },
   "outputs": [],
   "source": [
    "# Import the train dataset\n",
    "\n",
    "df_train = pd.read_csv('train.csv')"
   ]
  },
  {
   "cell_type": "code",
   "execution_count": 3,
   "metadata": {
    "execution": {
     "iopub.execute_input": "2023-03-24T03:30:43.010978Z",
     "iopub.status.busy": "2023-03-24T03:30:43.009611Z",
     "iopub.status.idle": "2023-03-24T03:30:43.073054Z",
     "shell.execute_reply": "2023-03-24T03:30:43.071919Z",
     "shell.execute_reply.started": "2023-03-24T03:30:43.010925Z"
    }
   },
   "outputs": [],
   "source": [
    "# Import the test dataset\n",
    "\n",
    "df_test = pd.read_csv('test.csv')"
   ]
  },
  {
   "cell_type": "markdown",
   "metadata": {},
   "source": [
    "**DATA CLEANING**"
   ]
  },
  {
   "cell_type": "code",
   "execution_count": 4,
   "metadata": {
    "execution": {
     "iopub.execute_input": "2023-03-24T04:04:17.988030Z",
     "iopub.status.busy": "2023-03-24T04:04:17.987602Z",
     "iopub.status.idle": "2023-03-24T04:04:18.000491Z",
     "shell.execute_reply": "2023-03-24T04:04:17.998997Z",
     "shell.execute_reply.started": "2023-03-24T04:04:17.987994Z"
    }
   },
   "outputs": [
    {
     "data": {
      "text/html": [
       "<div>\n",
       "<style scoped>\n",
       "    .dataframe tbody tr th:only-of-type {\n",
       "        vertical-align: middle;\n",
       "    }\n",
       "\n",
       "    .dataframe tbody tr th {\n",
       "        vertical-align: top;\n",
       "    }\n",
       "\n",
       "    .dataframe thead th {\n",
       "        text-align: right;\n",
       "    }\n",
       "</style>\n",
       "<table border=\"1\" class=\"dataframe\">\n",
       "  <thead>\n",
       "    <tr style=\"text-align: right;\">\n",
       "      <th></th>\n",
       "      <th>id</th>\n",
       "      <th>text</th>\n",
       "      <th>author</th>\n",
       "    </tr>\n",
       "  </thead>\n",
       "  <tbody>\n",
       "    <tr>\n",
       "      <th>0</th>\n",
       "      <td>id26305</td>\n",
       "      <td>This process, however, afforded me no means of...</td>\n",
       "      <td>EAP</td>\n",
       "    </tr>\n",
       "    <tr>\n",
       "      <th>1</th>\n",
       "      <td>id17569</td>\n",
       "      <td>It never once occurred to me that the fumbling...</td>\n",
       "      <td>HPL</td>\n",
       "    </tr>\n",
       "    <tr>\n",
       "      <th>2</th>\n",
       "      <td>id11008</td>\n",
       "      <td>In his left hand was a gold snuff box, from wh...</td>\n",
       "      <td>EAP</td>\n",
       "    </tr>\n",
       "    <tr>\n",
       "      <th>3</th>\n",
       "      <td>id27763</td>\n",
       "      <td>How lovely is spring As we looked from Windsor...</td>\n",
       "      <td>MWS</td>\n",
       "    </tr>\n",
       "    <tr>\n",
       "      <th>4</th>\n",
       "      <td>id12958</td>\n",
       "      <td>Finding nothing else, not even gold, the Super...</td>\n",
       "      <td>HPL</td>\n",
       "    </tr>\n",
       "  </tbody>\n",
       "</table>\n",
       "</div>"
      ],
      "text/plain": [
       "        id                                               text author\n",
       "0  id26305  This process, however, afforded me no means of...    EAP\n",
       "1  id17569  It never once occurred to me that the fumbling...    HPL\n",
       "2  id11008  In his left hand was a gold snuff box, from wh...    EAP\n",
       "3  id27763  How lovely is spring As we looked from Windsor...    MWS\n",
       "4  id12958  Finding nothing else, not even gold, the Super...    HPL"
      ]
     },
     "execution_count": 4,
     "metadata": {},
     "output_type": "execute_result"
    }
   ],
   "source": [
    "df_train.head()"
   ]
  },
  {
   "cell_type": "code",
   "execution_count": 6,
   "metadata": {
    "execution": {
     "iopub.execute_input": "2023-03-24T03:31:41.652493Z",
     "iopub.status.busy": "2023-03-24T03:31:41.651786Z",
     "iopub.status.idle": "2023-03-24T03:31:41.661006Z",
     "shell.execute_reply": "2023-03-24T03:31:41.659884Z",
     "shell.execute_reply.started": "2023-03-24T03:31:41.652415Z"
    }
   },
   "outputs": [
    {
     "data": {
      "text/plain": [
       "(19579, 3)"
      ]
     },
     "execution_count": 6,
     "metadata": {},
     "output_type": "execute_result"
    }
   ],
   "source": [
    "# Finding shape of train data\n",
    "\n",
    "df_train.shape"
   ]
  },
  {
   "cell_type": "code",
   "execution_count": 7,
   "metadata": {
    "execution": {
     "iopub.execute_input": "2023-03-24T03:32:13.523688Z",
     "iopub.status.busy": "2023-03-24T03:32:13.523185Z",
     "iopub.status.idle": "2023-03-24T03:32:13.533477Z",
     "shell.execute_reply": "2023-03-24T03:32:13.531883Z",
     "shell.execute_reply.started": "2023-03-24T03:32:13.523645Z"
    }
   },
   "outputs": [
    {
     "data": {
      "text/plain": [
       "(8392, 2)"
      ]
     },
     "execution_count": 7,
     "metadata": {},
     "output_type": "execute_result"
    }
   ],
   "source": [
    "# Finding shape of test data\n",
    "\n",
    "df_test.shape"
   ]
  },
  {
   "cell_type": "code",
   "execution_count": 8,
   "metadata": {
    "execution": {
     "iopub.execute_input": "2023-03-24T03:44:02.182159Z",
     "iopub.status.busy": "2023-03-24T03:44:02.180942Z",
     "iopub.status.idle": "2023-03-24T03:44:02.190572Z",
     "shell.execute_reply": "2023-03-24T03:44:02.189482Z",
     "shell.execute_reply.started": "2023-03-24T03:44:02.182114Z"
    }
   },
   "outputs": [
    {
     "data": {
      "text/plain": [
       "['EAP', 'HPL', 'MWS']"
      ]
     },
     "execution_count": 8,
     "metadata": {},
     "output_type": "execute_result"
    }
   ],
   "source": [
    "label = df_train.author.unique().tolist()\n",
    "label"
   ]
  },
  {
   "cell_type": "code",
   "execution_count": 9,
   "metadata": {
    "execution": {
     "iopub.execute_input": "2023-03-24T03:44:50.869503Z",
     "iopub.status.busy": "2023-03-24T03:44:50.868848Z",
     "iopub.status.idle": "2023-03-24T03:44:50.884500Z",
     "shell.execute_reply": "2023-03-24T03:44:50.883099Z",
     "shell.execute_reply.started": "2023-03-24T03:44:50.869463Z"
    }
   },
   "outputs": [
    {
     "data": {
      "text/plain": [
       "id        0\n",
       "text      0\n",
       "author    0\n",
       "dtype: int64"
      ]
     },
     "execution_count": 9,
     "metadata": {},
     "output_type": "execute_result"
    }
   ],
   "source": [
    "# null value\n",
    "\n",
    "df_train.isnull().sum()"
   ]
  },
  {
   "cell_type": "code",
   "execution_count": 10,
   "metadata": {
    "execution": {
     "iopub.execute_input": "2023-03-24T03:46:01.901530Z",
     "iopub.status.busy": "2023-03-24T03:46:01.901120Z",
     "iopub.status.idle": "2023-03-24T03:46:01.918455Z",
     "shell.execute_reply": "2023-03-24T03:46:01.917067Z",
     "shell.execute_reply.started": "2023-03-24T03:46:01.901495Z"
    }
   },
   "outputs": [
    {
     "data": {
      "text/html": [
       "<div>\n",
       "<style scoped>\n",
       "    .dataframe tbody tr th:only-of-type {\n",
       "        vertical-align: middle;\n",
       "    }\n",
       "\n",
       "    .dataframe tbody tr th {\n",
       "        vertical-align: top;\n",
       "    }\n",
       "\n",
       "    .dataframe thead th {\n",
       "        text-align: right;\n",
       "    }\n",
       "</style>\n",
       "<table border=\"1\" class=\"dataframe\">\n",
       "  <thead>\n",
       "    <tr style=\"text-align: right;\">\n",
       "      <th></th>\n",
       "      <th>text</th>\n",
       "      <th>author</th>\n",
       "    </tr>\n",
       "  </thead>\n",
       "  <tbody>\n",
       "    <tr>\n",
       "      <th>0</th>\n",
       "      <td>This process, however, afforded me no means of...</td>\n",
       "      <td>EAP</td>\n",
       "    </tr>\n",
       "    <tr>\n",
       "      <th>1</th>\n",
       "      <td>It never once occurred to me that the fumbling...</td>\n",
       "      <td>HPL</td>\n",
       "    </tr>\n",
       "    <tr>\n",
       "      <th>2</th>\n",
       "      <td>In his left hand was a gold snuff box, from wh...</td>\n",
       "      <td>EAP</td>\n",
       "    </tr>\n",
       "    <tr>\n",
       "      <th>3</th>\n",
       "      <td>How lovely is spring As we looked from Windsor...</td>\n",
       "      <td>MWS</td>\n",
       "    </tr>\n",
       "    <tr>\n",
       "      <th>4</th>\n",
       "      <td>Finding nothing else, not even gold, the Super...</td>\n",
       "      <td>HPL</td>\n",
       "    </tr>\n",
       "  </tbody>\n",
       "</table>\n",
       "</div>"
      ],
      "text/plain": [
       "                                                text author\n",
       "0  This process, however, afforded me no means of...    EAP\n",
       "1  It never once occurred to me that the fumbling...    HPL\n",
       "2  In his left hand was a gold snuff box, from wh...    EAP\n",
       "3  How lovely is spring As we looked from Windsor...    MWS\n",
       "4  Finding nothing else, not even gold, the Super...    HPL"
      ]
     },
     "execution_count": 10,
     "metadata": {},
     "output_type": "execute_result"
    }
   ],
   "source": [
    "# Drop the id column\n",
    "\n",
    "df_train = df_train.drop(columns = ['id'], axis=1)\n",
    "df_train.head()"
   ]
  },
  {
   "cell_type": "code",
   "execution_count": 11,
   "metadata": {
    "execution": {
     "iopub.execute_input": "2023-03-24T04:07:31.262294Z",
     "iopub.status.busy": "2023-03-24T04:07:31.261911Z",
     "iopub.status.idle": "2023-03-24T04:07:31.268746Z",
     "shell.execute_reply": "2023-03-24T04:07:31.267848Z",
     "shell.execute_reply.started": "2023-03-24T04:07:31.262261Z"
    }
   },
   "outputs": [],
   "source": [
    "def clean_train_data(x):\n",
    "    text = x\n",
    "    text = text.lower()\n",
    "    \n",
    "# Remove square brackets\n",
    "    text = re.sub('\\[.*?\\]', '', text)\n",
    "    \n",
    "# Remove punctuation\n",
    "    text = re.sub(r'[^\\w\\s]','',text)\n",
    "    \n",
    "# Remove words containing numbers\n",
    "    text = re.sub('\\w*\\d\\w*', '', text) \n",
    "    text = re.sub('\\n', '', text)\n",
    "    return text"
   ]
  },
  {
   "cell_type": "code",
   "execution_count": 12,
   "metadata": {
    "execution": {
     "iopub.execute_input": "2023-03-24T04:08:37.202937Z",
     "iopub.status.busy": "2023-03-24T04:08:37.202552Z",
     "iopub.status.idle": "2023-03-24T04:08:37.208856Z",
     "shell.execute_reply": "2023-03-24T04:08:37.207568Z",
     "shell.execute_reply.started": "2023-03-24T04:08:37.202906Z"
    }
   },
   "outputs": [],
   "source": [
    "clean_data = df_train.copy()"
   ]
  },
  {
   "cell_type": "code",
   "execution_count": 14,
   "metadata": {},
   "outputs": [],
   "source": [
    "import re"
   ]
  },
  {
   "cell_type": "code",
   "execution_count": 15,
   "metadata": {
    "execution": {
     "iopub.execute_input": "2023-03-24T04:09:00.613656Z",
     "iopub.status.busy": "2023-03-24T04:09:00.612958Z",
     "iopub.status.idle": "2023-03-24T04:09:01.067088Z",
     "shell.execute_reply": "2023-03-24T04:09:01.065949Z",
     "shell.execute_reply.started": "2023-03-24T04:09:00.613606Z"
    }
   },
   "outputs": [
    {
     "data": {
      "text/html": [
       "<div>\n",
       "<style scoped>\n",
       "    .dataframe tbody tr th:only-of-type {\n",
       "        vertical-align: middle;\n",
       "    }\n",
       "\n",
       "    .dataframe tbody tr th {\n",
       "        vertical-align: top;\n",
       "    }\n",
       "\n",
       "    .dataframe thead th {\n",
       "        text-align: right;\n",
       "    }\n",
       "</style>\n",
       "<table border=\"1\" class=\"dataframe\">\n",
       "  <thead>\n",
       "    <tr style=\"text-align: right;\">\n",
       "      <th></th>\n",
       "      <th>text</th>\n",
       "      <th>author</th>\n",
       "    </tr>\n",
       "  </thead>\n",
       "  <tbody>\n",
       "    <tr>\n",
       "      <th>0</th>\n",
       "      <td>this process however afforded me no means of a...</td>\n",
       "      <td>EAP</td>\n",
       "    </tr>\n",
       "    <tr>\n",
       "      <th>1</th>\n",
       "      <td>it never once occurred to me that the fumbling...</td>\n",
       "      <td>HPL</td>\n",
       "    </tr>\n",
       "    <tr>\n",
       "      <th>2</th>\n",
       "      <td>in his left hand was a gold snuff box from whi...</td>\n",
       "      <td>EAP</td>\n",
       "    </tr>\n",
       "    <tr>\n",
       "      <th>3</th>\n",
       "      <td>how lovely is spring as we looked from windsor...</td>\n",
       "      <td>MWS</td>\n",
       "    </tr>\n",
       "    <tr>\n",
       "      <th>4</th>\n",
       "      <td>finding nothing else not even gold the superin...</td>\n",
       "      <td>HPL</td>\n",
       "    </tr>\n",
       "  </tbody>\n",
       "</table>\n",
       "</div>"
      ],
      "text/plain": [
       "                                                text author\n",
       "0  this process however afforded me no means of a...    EAP\n",
       "1  it never once occurred to me that the fumbling...    HPL\n",
       "2  in his left hand was a gold snuff box from whi...    EAP\n",
       "3  how lovely is spring as we looked from windsor...    MWS\n",
       "4  finding nothing else not even gold the superin...    HPL"
      ]
     },
     "execution_count": 15,
     "metadata": {},
     "output_type": "execute_result"
    }
   ],
   "source": [
    "clean_data['text'] = df_train.text.apply(lambda x : clean_train_data(x))\n",
    "clean_data.head()"
   ]
  },
  {
   "cell_type": "code",
   "execution_count": 16,
   "metadata": {
    "execution": {
     "iopub.execute_input": "2023-03-24T03:48:23.781605Z",
     "iopub.status.busy": "2023-03-24T03:48:23.781192Z",
     "iopub.status.idle": "2023-03-24T03:48:23.843673Z",
     "shell.execute_reply": "2023-03-24T03:48:23.842526Z",
     "shell.execute_reply.started": "2023-03-24T03:48:23.781569Z"
    }
   },
   "outputs": [
    {
     "data": {
      "text/html": [
       "<div>\n",
       "<style scoped>\n",
       "    .dataframe tbody tr th:only-of-type {\n",
       "        vertical-align: middle;\n",
       "    }\n",
       "\n",
       "    .dataframe tbody tr th {\n",
       "        vertical-align: top;\n",
       "    }\n",
       "\n",
       "    .dataframe thead th {\n",
       "        text-align: right;\n",
       "    }\n",
       "</style>\n",
       "<table border=\"1\" class=\"dataframe\">\n",
       "  <thead>\n",
       "    <tr style=\"text-align: right;\">\n",
       "      <th></th>\n",
       "      <th>text</th>\n",
       "      <th>author</th>\n",
       "      <th>Number_of_words</th>\n",
       "    </tr>\n",
       "  </thead>\n",
       "  <tbody>\n",
       "    <tr>\n",
       "      <th>0</th>\n",
       "      <td>This process, however, afforded me no means of...</td>\n",
       "      <td>EAP</td>\n",
       "      <td>41</td>\n",
       "    </tr>\n",
       "    <tr>\n",
       "      <th>1</th>\n",
       "      <td>It never once occurred to me that the fumbling...</td>\n",
       "      <td>HPL</td>\n",
       "      <td>14</td>\n",
       "    </tr>\n",
       "    <tr>\n",
       "      <th>2</th>\n",
       "      <td>In his left hand was a gold snuff box, from wh...</td>\n",
       "      <td>EAP</td>\n",
       "      <td>36</td>\n",
       "    </tr>\n",
       "    <tr>\n",
       "      <th>3</th>\n",
       "      <td>How lovely is spring As we looked from Windsor...</td>\n",
       "      <td>MWS</td>\n",
       "      <td>34</td>\n",
       "    </tr>\n",
       "    <tr>\n",
       "      <th>4</th>\n",
       "      <td>Finding nothing else, not even gold, the Super...</td>\n",
       "      <td>HPL</td>\n",
       "      <td>27</td>\n",
       "    </tr>\n",
       "    <tr>\n",
       "      <th>...</th>\n",
       "      <td>...</td>\n",
       "      <td>...</td>\n",
       "      <td>...</td>\n",
       "    </tr>\n",
       "    <tr>\n",
       "      <th>19574</th>\n",
       "      <td>I could have fancied, while I looked at it, th...</td>\n",
       "      <td>EAP</td>\n",
       "      <td>20</td>\n",
       "    </tr>\n",
       "    <tr>\n",
       "      <th>19575</th>\n",
       "      <td>The lids clenched themselves together as if in...</td>\n",
       "      <td>EAP</td>\n",
       "      <td>10</td>\n",
       "    </tr>\n",
       "    <tr>\n",
       "      <th>19576</th>\n",
       "      <td>Mais il faut agir that is to say, a Frenchman ...</td>\n",
       "      <td>EAP</td>\n",
       "      <td>13</td>\n",
       "    </tr>\n",
       "    <tr>\n",
       "      <th>19577</th>\n",
       "      <td>For an item of news like this, it strikes us i...</td>\n",
       "      <td>EAP</td>\n",
       "      <td>15</td>\n",
       "    </tr>\n",
       "    <tr>\n",
       "      <th>19578</th>\n",
       "      <td>He laid a gnarled claw on my shoulder, and it ...</td>\n",
       "      <td>HPL</td>\n",
       "      <td>22</td>\n",
       "    </tr>\n",
       "  </tbody>\n",
       "</table>\n",
       "<p>19579 rows × 3 columns</p>\n",
       "</div>"
      ],
      "text/plain": [
       "                                                    text author  \\\n",
       "0      This process, however, afforded me no means of...    EAP   \n",
       "1      It never once occurred to me that the fumbling...    HPL   \n",
       "2      In his left hand was a gold snuff box, from wh...    EAP   \n",
       "3      How lovely is spring As we looked from Windsor...    MWS   \n",
       "4      Finding nothing else, not even gold, the Super...    HPL   \n",
       "...                                                  ...    ...   \n",
       "19574  I could have fancied, while I looked at it, th...    EAP   \n",
       "19575  The lids clenched themselves together as if in...    EAP   \n",
       "19576  Mais il faut agir that is to say, a Frenchman ...    EAP   \n",
       "19577  For an item of news like this, it strikes us i...    EAP   \n",
       "19578  He laid a gnarled claw on my shoulder, and it ...    HPL   \n",
       "\n",
       "       Number_of_words  \n",
       "0                   41  \n",
       "1                   14  \n",
       "2                   36  \n",
       "3                   34  \n",
       "4                   27  \n",
       "...                ...  \n",
       "19574               20  \n",
       "19575               10  \n",
       "19576               13  \n",
       "19577               15  \n",
       "19578               22  \n",
       "\n",
       "[19579 rows x 3 columns]"
      ]
     },
     "execution_count": 16,
     "metadata": {},
     "output_type": "execute_result"
    }
   ],
   "source": [
    "df_train['Number_of_words'] = df_train['text'].apply(lambda x:len(str(x).split()))\n",
    "df_train"
   ]
  },
  {
   "cell_type": "markdown",
   "metadata": {},
   "source": [
    "**Stopword Removal**"
   ]
  },
  {
   "cell_type": "code",
   "execution_count": 17,
   "metadata": {
    "execution": {
     "iopub.execute_input": "2023-03-24T04:12:17.460826Z",
     "iopub.status.busy": "2023-03-24T04:12:17.460053Z",
     "iopub.status.idle": "2023-03-24T04:12:18.492314Z",
     "shell.execute_reply": "2023-03-24T04:12:18.490855Z",
     "shell.execute_reply.started": "2023-03-24T04:12:17.460764Z"
    }
   },
   "outputs": [],
   "source": [
    "import nltk"
   ]
  },
  {
   "cell_type": "code",
   "execution_count": 19,
   "metadata": {},
   "outputs": [
    {
     "name": "stderr",
     "output_type": "stream",
     "text": [
      "[nltk_data] Downloading package stopwords to\n",
      "[nltk_data]     C:\\Users\\visit\\AppData\\Roaming\\nltk_data...\n",
      "[nltk_data]   Unzipping corpora\\stopwords.zip.\n"
     ]
    },
    {
     "data": {
      "text/plain": [
       "True"
      ]
     },
     "execution_count": 19,
     "metadata": {},
     "output_type": "execute_result"
    }
   ],
   "source": [
    "nltk.download('stopwords')"
   ]
  },
  {
   "cell_type": "code",
   "execution_count": 20,
   "metadata": {
    "execution": {
     "iopub.execute_input": "2023-03-24T04:12:22.460327Z",
     "iopub.status.busy": "2023-03-24T04:12:22.459927Z",
     "iopub.status.idle": "2023-03-24T04:12:22.470700Z",
     "shell.execute_reply": "2023-03-24T04:12:22.469709Z",
     "shell.execute_reply.started": "2023-03-24T04:12:22.460294Z"
    }
   },
   "outputs": [],
   "source": [
    "eng_stopwords = nltk.corpus.stopwords.words(\"english\")"
   ]
  },
  {
   "cell_type": "code",
   "execution_count": 21,
   "metadata": {
    "execution": {
     "iopub.execute_input": "2023-03-24T04:12:37.509747Z",
     "iopub.status.busy": "2023-03-24T04:12:37.508840Z",
     "iopub.status.idle": "2023-03-24T04:12:37.515887Z",
     "shell.execute_reply": "2023-03-24T04:12:37.514330Z",
     "shell.execute_reply.started": "2023-03-24T04:12:37.509701Z"
    }
   },
   "outputs": [],
   "source": [
    "def remove_eng_stopwords(text):\n",
    "    token_text = nltk.word_tokenize(text)\n",
    "    remove_stop = [word for word in token_text if word not in eng_stopwords]\n",
    "    join_text = ' '.join(remove_stop)\n",
    "    return join_text"
   ]
  },
  {
   "cell_type": "code",
   "execution_count": 22,
   "metadata": {
    "execution": {
     "iopub.execute_input": "2023-03-24T04:12:54.501382Z",
     "iopub.status.busy": "2023-03-24T04:12:54.501001Z",
     "iopub.status.idle": "2023-03-24T04:12:54.507948Z",
     "shell.execute_reply": "2023-03-24T04:12:54.506884Z",
     "shell.execute_reply.started": "2023-03-24T04:12:54.501349Z"
    }
   },
   "outputs": [],
   "source": [
    "remove_stop_data = clean_data.copy()"
   ]
  },
  {
   "cell_type": "code",
   "execution_count": 25,
   "metadata": {},
   "outputs": [
    {
     "name": "stderr",
     "output_type": "stream",
     "text": [
      "[nltk_data] Downloading package punkt to\n",
      "[nltk_data]     C:\\Users\\visit\\AppData\\Roaming\\nltk_data...\n",
      "[nltk_data]   Unzipping tokenizers\\punkt.zip.\n"
     ]
    },
    {
     "data": {
      "text/plain": [
       "True"
      ]
     },
     "execution_count": 25,
     "metadata": {},
     "output_type": "execute_result"
    }
   ],
   "source": [
    "nltk.download('punkt')"
   ]
  },
  {
   "cell_type": "code",
   "execution_count": 26,
   "metadata": {
    "execution": {
     "iopub.execute_input": "2023-03-24T04:12:59.940931Z",
     "iopub.status.busy": "2023-03-24T04:12:59.940509Z",
     "iopub.status.idle": "2023-03-24T04:13:04.353176Z",
     "shell.execute_reply": "2023-03-24T04:13:04.351935Z",
     "shell.execute_reply.started": "2023-03-24T04:12:59.940893Z"
    }
   },
   "outputs": [
    {
     "data": {
      "text/html": [
       "<div>\n",
       "<style scoped>\n",
       "    .dataframe tbody tr th:only-of-type {\n",
       "        vertical-align: middle;\n",
       "    }\n",
       "\n",
       "    .dataframe tbody tr th {\n",
       "        vertical-align: top;\n",
       "    }\n",
       "\n",
       "    .dataframe thead th {\n",
       "        text-align: right;\n",
       "    }\n",
       "</style>\n",
       "<table border=\"1\" class=\"dataframe\">\n",
       "  <thead>\n",
       "    <tr style=\"text-align: right;\">\n",
       "      <th></th>\n",
       "      <th>text</th>\n",
       "      <th>author</th>\n",
       "    </tr>\n",
       "  </thead>\n",
       "  <tbody>\n",
       "    <tr>\n",
       "      <th>0</th>\n",
       "      <td>process however afforded means ascertaining di...</td>\n",
       "      <td>EAP</td>\n",
       "    </tr>\n",
       "    <tr>\n",
       "      <th>1</th>\n",
       "      <td>never occurred fumbling might mere mistake</td>\n",
       "      <td>HPL</td>\n",
       "    </tr>\n",
       "    <tr>\n",
       "      <th>2</th>\n",
       "      <td>left hand gold snuff box capered hill cutting ...</td>\n",
       "      <td>EAP</td>\n",
       "    </tr>\n",
       "    <tr>\n",
       "      <th>3</th>\n",
       "      <td>lovely spring looked windsor terrace sixteen f...</td>\n",
       "      <td>MWS</td>\n",
       "    </tr>\n",
       "    <tr>\n",
       "      <th>4</th>\n",
       "      <td>finding nothing else even gold superintendent ...</td>\n",
       "      <td>HPL</td>\n",
       "    </tr>\n",
       "  </tbody>\n",
       "</table>\n",
       "</div>"
      ],
      "text/plain": [
       "                                                text author\n",
       "0  process however afforded means ascertaining di...    EAP\n",
       "1         never occurred fumbling might mere mistake    HPL\n",
       "2  left hand gold snuff box capered hill cutting ...    EAP\n",
       "3  lovely spring looked windsor terrace sixteen f...    MWS\n",
       "4  finding nothing else even gold superintendent ...    HPL"
      ]
     },
     "execution_count": 26,
     "metadata": {},
     "output_type": "execute_result"
    }
   ],
   "source": [
    "remove_stop_data['text'] = clean_data.text.apply(lambda x : remove_eng_stopwords(x))\n",
    "remove_stop_data.head()"
   ]
  },
  {
   "cell_type": "code",
   "execution_count": 27,
   "metadata": {
    "execution": {
     "iopub.execute_input": "2023-03-24T04:14:21.420986Z",
     "iopub.status.busy": "2023-03-24T04:14:21.420548Z",
     "iopub.status.idle": "2023-03-24T04:14:21.428125Z",
     "shell.execute_reply": "2023-03-24T04:14:21.426781Z",
     "shell.execute_reply.started": "2023-03-24T04:14:21.420946Z"
    }
   },
   "outputs": [
    {
     "name": "stdout",
     "output_type": "stream",
     "text": [
      "Before remove stopwords 224\n",
      "After remove stopwords 154\n"
     ]
    }
   ],
   "source": [
    "print(\"Before remove stopwords\", len(clean_data['text'][0]))\n",
    "print(\"After remove stopwords\", len(remove_stop_data['text'][0]))"
   ]
  },
  {
   "cell_type": "markdown",
   "metadata": {},
   "source": [
    "**VISULATION**"
   ]
  },
  {
   "cell_type": "code",
   "execution_count": 30,
   "metadata": {},
   "outputs": [],
   "source": [
    "import seaborn as sns"
   ]
  },
  {
   "cell_type": "code",
   "execution_count": 31,
   "metadata": {
    "execution": {
     "iopub.execute_input": "2023-03-24T03:53:23.982456Z",
     "iopub.status.busy": "2023-03-24T03:53:23.982015Z",
     "iopub.status.idle": "2023-03-24T03:53:24.580967Z",
     "shell.execute_reply": "2023-03-24T03:53:24.579537Z",
     "shell.execute_reply.started": "2023-03-24T03:53:23.982419Z"
    }
   },
   "outputs": [
    {
     "data": {
      "text/plain": [
       "Text(0.5, 1.0, 'Frequency distribution of number of words for each text extracted')"
      ]
     },
     "execution_count": 31,
     "metadata": {},
     "output_type": "execute_result"
    },
    {
     "data": {
      "image/png": "[encoded data removed]",
      "text/plain": [
       "<Figure size 1200x600 with 1 Axes>"
      ]
     },
     "metadata": {},
     "output_type": "display_data"
    }
   ],
   "source": [
    "import warnings\n",
    "warnings.filterwarnings(\"ignore\")\n",
    "\n",
    "import matplotlib.pyplot as plt\n",
    "plt.style.use('ggplot')\n",
    "plt.figure(figsize=(12,6))\n",
    "sns.distplot(df_train['Number_of_words'],kde = False,color=\"yellow\",bins=200)\n",
    "plt.title(\"Frequency distribution of number of words for each text extracted\", size=20)"
   ]
  },
  {
   "cell_type": "markdown",
   "metadata": {},
   "source": [
    "**Find out common words**"
   ]
  },
  {
   "cell_type": "code",
   "execution_count": 32,
   "metadata": {
    "execution": {
     "iopub.execute_input": "2023-03-24T04:15:29.669184Z",
     "iopub.status.busy": "2023-03-24T04:15:29.668740Z",
     "iopub.status.idle": "2023-03-24T04:15:29.674121Z",
     "shell.execute_reply": "2023-03-24T04:15:29.673114Z",
     "shell.execute_reply.started": "2023-03-24T04:15:29.669147Z"
    }
   },
   "outputs": [],
   "source": [
    "from itertools import chain\n",
    "from collections import Counter"
   ]
  },
  {
   "cell_type": "code",
   "execution_count": 33,
   "metadata": {
    "execution": {
     "iopub.execute_input": "2023-03-24T04:16:13.533998Z",
     "iopub.status.busy": "2023-03-24T04:16:13.533519Z",
     "iopub.status.idle": "2023-03-24T04:16:14.212147Z",
     "shell.execute_reply": "2023-03-24T04:16:14.210759Z",
     "shell.execute_reply.started": "2023-03-24T04:16:13.533957Z"
    }
   },
   "outputs": [
    {
     "data": {
      "text/html": [
       "<div>\n",
       "<style scoped>\n",
       "    .dataframe tbody tr th:only-of-type {\n",
       "        vertical-align: middle;\n",
       "    }\n",
       "\n",
       "    .dataframe tbody tr th {\n",
       "        vertical-align: top;\n",
       "    }\n",
       "\n",
       "    .dataframe thead th {\n",
       "        text-align: right;\n",
       "    }\n",
       "</style>\n",
       "<table border=\"1\" class=\"dataframe\">\n",
       "  <thead>\n",
       "    <tr style=\"text-align: right;\">\n",
       "      <th></th>\n",
       "      <th>index</th>\n",
       "      <th>count</th>\n",
       "    </tr>\n",
       "  </thead>\n",
       "  <tbody>\n",
       "    <tr>\n",
       "      <th>0</th>\n",
       "      <td>one</td>\n",
       "      <td>1614</td>\n",
       "    </tr>\n",
       "    <tr>\n",
       "      <th>1</th>\n",
       "      <td>upon</td>\n",
       "      <td>1411</td>\n",
       "    </tr>\n",
       "    <tr>\n",
       "      <th>2</th>\n",
       "      <td>could</td>\n",
       "      <td>1316</td>\n",
       "    </tr>\n",
       "    <tr>\n",
       "      <th>3</th>\n",
       "      <td>would</td>\n",
       "      <td>1241</td>\n",
       "    </tr>\n",
       "    <tr>\n",
       "      <th>4</th>\n",
       "      <td>man</td>\n",
       "      <td>730</td>\n",
       "    </tr>\n",
       "  </tbody>\n",
       "</table>\n",
       "</div>"
      ],
      "text/plain": [
       "   index  count\n",
       "0    one   1614\n",
       "1   upon   1411\n",
       "2  could   1316\n",
       "3  would   1241\n",
       "4    man    730"
      ]
     },
     "execution_count": 33,
     "metadata": {},
     "output_type": "execute_result"
    }
   ],
   "source": [
    "list_words = remove_stop_data['text'].str.split()\n",
    "list_words_merge = list(chain(*list_words))\n",
    "\n",
    "d = Counter(list_words_merge)\n",
    "df = pd.DataFrame(data=d, index=['count'])\n",
    "top_common_words = df.T.sort_values(by=['count'], ascending=False).reset_index().head(50)\n",
    "top_common_words.head()"
   ]
  },
  {
   "cell_type": "code",
   "execution_count": 34,
   "metadata": {
    "execution": {
     "iopub.execute_input": "2023-03-24T04:16:50.024826Z",
     "iopub.status.busy": "2023-03-24T04:16:50.024426Z",
     "iopub.status.idle": "2023-03-24T04:16:51.738329Z",
     "shell.execute_reply": "2023-03-24T04:16:51.736952Z",
     "shell.execute_reply.started": "2023-03-24T04:16:50.024779Z"
    }
   },
   "outputs": [
    {
     "data": {
      "text/plain": [
       "(array([ 0,  1,  2,  3,  4,  5,  6,  7,  8,  9, 10, 11, 12, 13, 14, 15, 16,\n",
       "        17, 18, 19, 20, 21, 22, 23, 24, 25, 26, 27, 28, 29, 30, 31, 32, 33,\n",
       "        34, 35, 36, 37, 38, 39, 40, 41, 42, 43, 44, 45, 46, 47, 48, 49]),\n",
       " [Text(0, 0, 'one'),\n",
       "  Text(1, 0, 'upon'),\n",
       "  Text(2, 0, 'could'),\n",
       "  Text(3, 0, 'would'),\n",
       "  Text(4, 0, 'man'),\n",
       "  Text(5, 0, 'time'),\n",
       "  Text(6, 0, 'yet'),\n",
       "  Text(7, 0, 'said'),\n",
       "  Text(8, 0, 'even'),\n",
       "  Text(9, 0, 'might'),\n",
       "  Text(10, 0, 'old'),\n",
       "  Text(11, 0, 'like'),\n",
       "  Text(12, 0, 'first'),\n",
       "  Text(13, 0, 'us'),\n",
       "  Text(14, 0, 'must'),\n",
       "  Text(15, 0, 'never'),\n",
       "  Text(16, 0, 'made'),\n",
       "  Text(17, 0, 'life'),\n",
       "  Text(18, 0, 'night'),\n",
       "  Text(19, 0, 'found'),\n",
       "  Text(20, 0, 'seemed'),\n",
       "  Text(21, 0, 'eyes'),\n",
       "  Text(22, 0, 'every'),\n",
       "  Text(23, 0, 'little'),\n",
       "  Text(24, 0, 'still'),\n",
       "  Text(25, 0, 'day'),\n",
       "  Text(26, 0, 'great'),\n",
       "  Text(27, 0, 'long'),\n",
       "  Text(28, 0, 'saw'),\n",
       "  Text(29, 0, 'many'),\n",
       "  Text(30, 0, 'well'),\n",
       "  Text(31, 0, 'came'),\n",
       "  Text(32, 0, 'much'),\n",
       "  Text(33, 0, 'may'),\n",
       "  Text(34, 0, 'thought'),\n",
       "  Text(35, 0, 'two'),\n",
       "  Text(36, 0, 'see'),\n",
       "  Text(37, 0, 'say'),\n",
       "  Text(38, 0, 'ever'),\n",
       "  Text(39, 0, 'thus'),\n",
       "  Text(40, 0, 'whose'),\n",
       "  Text(41, 0, 'death'),\n",
       "  Text(42, 0, 'mind'),\n",
       "  Text(43, 0, 'without'),\n",
       "  Text(44, 0, 'far'),\n",
       "  Text(45, 0, 'things'),\n",
       "  Text(46, 0, 'heart'),\n",
       "  Text(47, 0, 'shall'),\n",
       "  Text(48, 0, 'heard'),\n",
       "  Text(49, 0, 'house')])"
      ]
     },
     "execution_count": 34,
     "metadata": {},
     "output_type": "execute_result"
    },
    {
     "data": {
      "image/png": "[encoded data removed]",
      "text/plain": [
       "<Figure size 1500x700 with 1 Axes>"
      ]
     },
     "metadata": {},
     "output_type": "display_data"
    }
   ],
   "source": [
    "plt.figure(figsize=(15,7))\n",
    "sns.set(style=\"darkgrid\")\n",
    "sns.barplot(x=\"index\", y='count', data=top_common_words)\n",
    "plt.xticks(rotation=90)"
   ]
  },
  {
   "cell_type": "code",
   "execution_count": 35,
   "metadata": {
    "execution": {
     "iopub.execute_input": "2023-03-24T04:17:20.577160Z",
     "iopub.status.busy": "2023-03-24T04:17:20.576723Z",
     "iopub.status.idle": "2023-03-24T04:17:20.586621Z",
     "shell.execute_reply": "2023-03-24T04:17:20.585303Z",
     "shell.execute_reply.started": "2023-03-24T04:17:20.577125Z"
    }
   },
   "outputs": [
    {
     "data": {
      "text/plain": [
       "['one',\n",
       " 'upon',\n",
       " 'could',\n",
       " 'would',\n",
       " 'time',\n",
       " 'yet',\n",
       " 'said',\n",
       " 'even',\n",
       " 'might',\n",
       " 'old',\n",
       " 'like',\n",
       " 'first',\n",
       " 'us',\n",
       " 'must',\n",
       " 'never',\n",
       " 'made',\n",
       " 'found',\n",
       " 'seemed',\n",
       " 'eyes',\n",
       " 'every',\n",
       " 'little',\n",
       " 'still',\n",
       " 'day',\n",
       " 'great',\n",
       " 'long',\n",
       " 'saw',\n",
       " 'many',\n",
       " 'well',\n",
       " 'came',\n",
       " 'much',\n",
       " 'may',\n",
       " 'thought',\n",
       " 'two',\n",
       " 'see',\n",
       " 'say',\n",
       " 'ever',\n",
       " 'thus',\n",
       " 'whose',\n",
       " 'death',\n",
       " 'mind',\n",
       " 'without',\n",
       " 'far',\n",
       " 'things',\n",
       " 'shall',\n",
       " 'heard']"
      ]
     },
     "execution_count": 35,
     "metadata": {},
     "output_type": "execute_result"
    }
   ],
   "source": [
    "common_words_value = top_common_words['index'].values\n",
    "remove_words = ['man', 'life', 'night', 'house', 'heart']\n",
    "new_stop_words = [x for x in common_words_value if x not in remove_words]\n",
    "new_stop_words"
   ]
  },
  {
   "cell_type": "code",
   "execution_count": 36,
   "metadata": {
    "execution": {
     "iopub.execute_input": "2023-03-24T04:17:37.353455Z",
     "iopub.status.busy": "2023-03-24T04:17:37.352320Z",
     "iopub.status.idle": "2023-03-24T04:17:37.359089Z",
     "shell.execute_reply": "2023-03-24T04:17:37.357724Z",
     "shell.execute_reply.started": "2023-03-24T04:17:37.353413Z"
    }
   },
   "outputs": [],
   "source": [
    "def remove_new_stopwords(text):\n",
    "    token_text = nltk.word_tokenize(text)\n",
    "    remove_stop = [word for word in token_text if word not in new_stop_words]\n",
    "    join_text = ' '.join(remove_stop)\n",
    "    return join_text"
   ]
  },
  {
   "cell_type": "code",
   "execution_count": 37,
   "metadata": {
    "execution": {
     "iopub.execute_input": "2023-03-24T04:17:54.977191Z",
     "iopub.status.busy": "2023-03-24T04:17:54.976790Z",
     "iopub.status.idle": "2023-03-24T04:17:54.983492Z",
     "shell.execute_reply": "2023-03-24T04:17:54.982358Z",
     "shell.execute_reply.started": "2023-03-24T04:17:54.977158Z"
    }
   },
   "outputs": [],
   "source": [
    "new_stop_data = remove_stop_data.copy()"
   ]
  },
  {
   "cell_type": "code",
   "execution_count": 38,
   "metadata": {
    "execution": {
     "iopub.execute_input": "2023-03-24T04:17:58.816188Z",
     "iopub.status.busy": "2023-03-24T04:17:58.815807Z",
     "iopub.status.idle": "2023-03-24T04:18:01.661127Z",
     "shell.execute_reply": "2023-03-24T04:18:01.660112Z",
     "shell.execute_reply.started": "2023-03-24T04:17:58.816154Z"
    }
   },
   "outputs": [
    {
     "data": {
      "text/html": [
       "<div>\n",
       "<style scoped>\n",
       "    .dataframe tbody tr th:only-of-type {\n",
       "        vertical-align: middle;\n",
       "    }\n",
       "\n",
       "    .dataframe tbody tr th {\n",
       "        vertical-align: top;\n",
       "    }\n",
       "\n",
       "    .dataframe thead th {\n",
       "        text-align: right;\n",
       "    }\n",
       "</style>\n",
       "<table border=\"1\" class=\"dataframe\">\n",
       "  <thead>\n",
       "    <tr style=\"text-align: right;\">\n",
       "      <th></th>\n",
       "      <th>text</th>\n",
       "      <th>author</th>\n",
       "    </tr>\n",
       "  </thead>\n",
       "  <tbody>\n",
       "    <tr>\n",
       "      <th>0</th>\n",
       "      <td>process however afforded means ascertaining di...</td>\n",
       "      <td>EAP</td>\n",
       "    </tr>\n",
       "    <tr>\n",
       "      <th>1</th>\n",
       "      <td>occurred fumbling mere mistake</td>\n",
       "      <td>HPL</td>\n",
       "    </tr>\n",
       "    <tr>\n",
       "      <th>2</th>\n",
       "      <td>left hand gold snuff box capered hill cutting ...</td>\n",
       "      <td>EAP</td>\n",
       "    </tr>\n",
       "    <tr>\n",
       "      <th>3</th>\n",
       "      <td>lovely spring looked windsor terrace sixteen f...</td>\n",
       "      <td>MWS</td>\n",
       "    </tr>\n",
       "    <tr>\n",
       "      <th>4</th>\n",
       "      <td>finding nothing else gold superintendent aband...</td>\n",
       "      <td>HPL</td>\n",
       "    </tr>\n",
       "  </tbody>\n",
       "</table>\n",
       "</div>"
      ],
      "text/plain": [
       "                                                text author\n",
       "0  process however afforded means ascertaining di...    EAP\n",
       "1                     occurred fumbling mere mistake    HPL\n",
       "2  left hand gold snuff box capered hill cutting ...    EAP\n",
       "3  lovely spring looked windsor terrace sixteen f...    MWS\n",
       "4  finding nothing else gold superintendent aband...    HPL"
      ]
     },
     "execution_count": 38,
     "metadata": {},
     "output_type": "execute_result"
    }
   ],
   "source": [
    "new_stop_data['text'] = remove_stop_data.text.apply(lambda x : remove_new_stopwords(x))\n",
    "new_stop_data.head()"
   ]
  },
  {
   "cell_type": "code",
   "execution_count": 39,
   "metadata": {
    "execution": {
     "iopub.execute_input": "2023-03-24T04:18:25.144652Z",
     "iopub.status.busy": "2023-03-24T04:18:25.144253Z",
     "iopub.status.idle": "2023-03-24T04:18:25.151740Z",
     "shell.execute_reply": "2023-03-24T04:18:25.150383Z",
     "shell.execute_reply.started": "2023-03-24T04:18:25.144616Z"
    }
   },
   "outputs": [
    {
     "name": "stdout",
     "output_type": "stream",
     "text": [
      "Before remove stopwords 130\n",
      "After remove stopwords 125\n"
     ]
    }
   ],
   "source": [
    "print(\"Before remove stopwords\", len(remove_stop_data['text'][4]))\n",
    "print(\"After remove stopwords\", len(new_stop_data['text'][4]))"
   ]
  },
  {
   "cell_type": "code",
   "execution_count": 40,
   "metadata": {
    "execution": {
     "iopub.execute_input": "2023-03-24T04:22:37.743680Z",
     "iopub.status.busy": "2023-03-24T04:22:37.743257Z",
     "iopub.status.idle": "2023-03-24T04:22:37.814883Z",
     "shell.execute_reply": "2023-03-24T04:22:37.813541Z",
     "shell.execute_reply.started": "2023-03-24T04:22:37.743645Z"
    }
   },
   "outputs": [],
   "source": [
    "new_stop_data.to_csv('submission.csv',index=False)"
   ]
  },
  {
   "cell_type": "code",
   "execution_count": null,
   "metadata": {},
   "outputs": [],
   "source": []
  }
 ],
 "metadata": {
  "kernelspec": {
   "display_name": "Python 3 (ipykernel)",
   "language": "python",
   "name": "python3"
  },
  "language_info": {
   "codemirror_mode": {
    "name": "ipython",
    "version": 3
   },
   "file_extension": ".py",
   "mimetype": "text/x-python",
   "name": "python",
   "nbconvert_exporter": "python",
   "pygments_lexer": "ipython3",
   "version": "3.11.3"
  }
 },
 "nbformat": 4,
 "nbformat_minor": 4
}
