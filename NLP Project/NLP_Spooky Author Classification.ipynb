{
 "cells": [
  {
   "cell_type": "code",
   "execution_count": 133,
   "metadata": {
    "_cell_guid": "b1076dfc-b9ad-4769-8c92-a6c4dae69d19",
    "_uuid": "8f2839f25d086af736a60e9eeb907d3b93b6e0e5",
    "execution": {
     "iopub.execute_input": "2023-03-31T13:11:26.580163Z",
     "iopub.status.busy": "2023-03-31T13:11:26.579575Z",
     "iopub.status.idle": "2023-03-31T13:11:26.597818Z",
     "shell.execute_reply": "2023-03-31T13:11:26.596132Z",
     "shell.execute_reply.started": "2023-03-31T13:11:26.580121Z"
    }
   },
   "outputs": [
    {
     "name": "stdout",
     "output_type": "stream",
     "text": [
      "/kaggle/input/heber-data-science-spooky-author-classification/sample_submission/sample_submission.csv\n",
      "/kaggle/input/heber-data-science-spooky-author-classification/test/test.csv\n",
      "/kaggle/input/heber-data-science-spooky-author-classification/train/train.csv\n"
     ]
    }
   ],
   "source": [
    "# This Python 3 environment comes with many helpful analytics libraries installed\n",
    "# It is defined by the kaggle/python Docker image: https://github.com/kaggle/docker-python\n",
    "# For example, here's several helpful packages to load\n",
    "\n",
    "import numpy as np # linear algebra\n",
    "import pandas as pd # data processing, CSV file I/O (e.g. pd.read_csv)\n",
    "\n",
    "# Input data files are available in the read-only \"../input/\" directory\n",
    "# For example, running this (by clicking run or pressing Shift+Enter) will list all files under the input directory\n",
    "\n",
    "import os\n",
    "for dirname, _, filenames in os.walk('/kaggle/input'):\n",
    "    for filename in filenames:\n",
    "        print(os.path.join(dirname, filename))\n",
    "\n",
    "# You can write up to 20GB to the current directory (/kaggle/working/) that gets preserved as output when you create a version using \"Save & Run All\" \n",
    "# You can also write temporary files to /kaggle/temp/, but they won't be saved outside of the current session"
   ]
  },
  {
   "cell_type": "markdown",
   "metadata": {},
   "source": [
    "## Team : R.Newlin Blessy-225229122 ,Yogeshwari.G-225229148"
   ]
  },
  {
   "cell_type": "code",
   "execution_count": 134,
   "metadata": {
    "execution": {
     "iopub.execute_input": "2023-03-31T13:11:26.601322Z",
     "iopub.status.busy": "2023-03-31T13:11:26.600389Z",
     "iopub.status.idle": "2023-03-31T13:11:26.609504Z",
     "shell.execute_reply": "2023-03-31T13:11:26.607978Z",
     "shell.execute_reply.started": "2023-03-31T13:11:26.601258Z"
    }
   },
   "outputs": [],
   "source": [
    "import pandas as pd\n",
    "from sklearn.feature_extraction.text import CountVectorizer\n",
    "from sklearn.naive_bayes import MultinomialNB\n",
    "from nltk import sent_tokenize, word_tokenize, FreqDist\n",
    "from nltk.data import load\n",
    "import nltk\n",
    "from math import ceil\n",
    "\n",
    "from pandas import read_csv\n",
    "\n",
    "from datetime import datetime\n",
    "\n",
    "from collections import Counter"
   ]
  },
  {
   "cell_type": "code",
   "execution_count": 135,
   "metadata": {
    "execution": {
     "iopub.execute_input": "2023-03-31T13:11:26.612392Z",
     "iopub.status.busy": "2023-03-31T13:11:26.611895Z",
     "iopub.status.idle": "2023-03-31T13:11:26.627841Z",
     "shell.execute_reply": "2023-03-31T13:11:26.624592Z",
     "shell.execute_reply.started": "2023-03-31T13:11:26.612347Z"
    }
   },
   "outputs": [],
   "source": [
    "from wordcloud import STOPWORDS\n"
   ]
  },
  {
   "cell_type": "markdown",
   "metadata": {},
   "source": [
    "# Overview of data"
   ]
  },
  {
   "cell_type": "code",
   "execution_count": 136,
   "metadata": {
    "execution": {
     "iopub.execute_input": "2023-03-31T13:11:26.632369Z",
     "iopub.status.busy": "2023-03-31T13:11:26.631757Z",
     "iopub.status.idle": "2023-03-31T13:11:26.676580Z",
     "shell.execute_reply": "2023-03-31T13:11:26.675380Z",
     "shell.execute_reply.started": "2023-03-31T13:11:26.632327Z"
    }
   },
   "outputs": [
    {
     "data": {
      "text/html": [
       "<div>\n",
       "<style scoped>\n",
       "    .dataframe tbody tr th:only-of-type {\n",
       "        vertical-align: middle;\n",
       "    }\n",
       "\n",
       "    .dataframe tbody tr th {\n",
       "        vertical-align: top;\n",
       "    }\n",
       "\n",
       "    .dataframe thead th {\n",
       "        text-align: right;\n",
       "    }\n",
       "</style>\n",
       "<table border=\"1\" class=\"dataframe\">\n",
       "  <thead>\n",
       "    <tr style=\"text-align: right;\">\n",
       "      <th></th>\n",
       "      <th>id</th>\n",
       "      <th>text</th>\n",
       "    </tr>\n",
       "  </thead>\n",
       "  <tbody>\n",
       "    <tr>\n",
       "      <th>0</th>\n",
       "      <td>id02310</td>\n",
       "      <td>Still, as I urged our leaving Ireland with suc...</td>\n",
       "    </tr>\n",
       "    <tr>\n",
       "      <th>1</th>\n",
       "      <td>id24541</td>\n",
       "      <td>If a fire wanted fanning, it could readily be ...</td>\n",
       "    </tr>\n",
       "    <tr>\n",
       "      <th>2</th>\n",
       "      <td>id00134</td>\n",
       "      <td>And when they had broken down the frail door t...</td>\n",
       "    </tr>\n",
       "    <tr>\n",
       "      <th>3</th>\n",
       "      <td>id27757</td>\n",
       "      <td>While I was thinking how I should possibly man...</td>\n",
       "    </tr>\n",
       "    <tr>\n",
       "      <th>4</th>\n",
       "      <td>id04081</td>\n",
       "      <td>I am not sure to what limit his knowledge may ...</td>\n",
       "    </tr>\n",
       "    <tr>\n",
       "      <th>...</th>\n",
       "      <td>...</td>\n",
       "      <td>...</td>\n",
       "    </tr>\n",
       "    <tr>\n",
       "      <th>8387</th>\n",
       "      <td>id11749</td>\n",
       "      <td>All this is now the fitter for my purpose.</td>\n",
       "    </tr>\n",
       "    <tr>\n",
       "      <th>8388</th>\n",
       "      <td>id10526</td>\n",
       "      <td>I fixed myself on a wide solitude.</td>\n",
       "    </tr>\n",
       "    <tr>\n",
       "      <th>8389</th>\n",
       "      <td>id13477</td>\n",
       "      <td>It is easily understood that what might improv...</td>\n",
       "    </tr>\n",
       "    <tr>\n",
       "      <th>8390</th>\n",
       "      <td>id13761</td>\n",
       "      <td>Be this as it may, I now began to feel the ins...</td>\n",
       "    </tr>\n",
       "    <tr>\n",
       "      <th>8391</th>\n",
       "      <td>id04282</td>\n",
       "      <td>Long winded, statistical, and drearily genealo...</td>\n",
       "    </tr>\n",
       "  </tbody>\n",
       "</table>\n",
       "<p>8392 rows × 2 columns</p>\n",
       "</div>"
      ],
      "text/plain": [
       "           id                                               text\n",
       "0     id02310  Still, as I urged our leaving Ireland with suc...\n",
       "1     id24541  If a fire wanted fanning, it could readily be ...\n",
       "2     id00134  And when they had broken down the frail door t...\n",
       "3     id27757  While I was thinking how I should possibly man...\n",
       "4     id04081  I am not sure to what limit his knowledge may ...\n",
       "...       ...                                                ...\n",
       "8387  id11749         All this is now the fitter for my purpose.\n",
       "8388  id10526                 I fixed myself on a wide solitude.\n",
       "8389  id13477  It is easily understood that what might improv...\n",
       "8390  id13761  Be this as it may, I now began to feel the ins...\n",
       "8391  id04282  Long winded, statistical, and drearily genealo...\n",
       "\n",
       "[8392 rows x 2 columns]"
      ]
     },
     "execution_count": 136,
     "metadata": {},
     "output_type": "execute_result"
    }
   ],
   "source": [
    "df=pd.read_csv(\"/kaggle/input/heber-data-science-spooky-author-classification/test/test.csv\")\n",
    "df"
   ]
  },
  {
   "cell_type": "code",
   "execution_count": 137,
   "metadata": {
    "execution": {
     "iopub.execute_input": "2023-03-31T13:11:26.679579Z",
     "iopub.status.busy": "2023-03-31T13:11:26.677955Z",
     "iopub.status.idle": "2023-03-31T13:11:26.689928Z",
     "shell.execute_reply": "2023-03-31T13:11:26.688010Z",
     "shell.execute_reply.started": "2023-03-31T13:11:26.679525Z"
    }
   },
   "outputs": [
    {
     "data": {
      "text/plain": [
       "16784"
      ]
     },
     "execution_count": 137,
     "metadata": {},
     "output_type": "execute_result"
    }
   ],
   "source": [
    "df.size"
   ]
  },
  {
   "cell_type": "code",
   "execution_count": 138,
   "metadata": {
    "execution": {
     "iopub.execute_input": "2023-03-31T13:11:26.693533Z",
     "iopub.status.busy": "2023-03-31T13:11:26.693050Z",
     "iopub.status.idle": "2023-03-31T13:11:26.708613Z",
     "shell.execute_reply": "2023-03-31T13:11:26.706706Z",
     "shell.execute_reply.started": "2023-03-31T13:11:26.693492Z"
    }
   },
   "outputs": [
    {
     "data": {
      "text/html": [
       "<div>\n",
       "<style scoped>\n",
       "    .dataframe tbody tr th:only-of-type {\n",
       "        vertical-align: middle;\n",
       "    }\n",
       "\n",
       "    .dataframe tbody tr th {\n",
       "        vertical-align: top;\n",
       "    }\n",
       "\n",
       "    .dataframe thead th {\n",
       "        text-align: right;\n",
       "    }\n",
       "</style>\n",
       "<table border=\"1\" class=\"dataframe\">\n",
       "  <thead>\n",
       "    <tr style=\"text-align: right;\">\n",
       "      <th></th>\n",
       "      <th>id</th>\n",
       "      <th>text</th>\n",
       "    </tr>\n",
       "  </thead>\n",
       "  <tbody>\n",
       "    <tr>\n",
       "      <th>0</th>\n",
       "      <td>id02310</td>\n",
       "      <td>Still, as I urged our leaving Ireland with suc...</td>\n",
       "    </tr>\n",
       "    <tr>\n",
       "      <th>1</th>\n",
       "      <td>id24541</td>\n",
       "      <td>If a fire wanted fanning, it could readily be ...</td>\n",
       "    </tr>\n",
       "    <tr>\n",
       "      <th>2</th>\n",
       "      <td>id00134</td>\n",
       "      <td>And when they had broken down the frail door t...</td>\n",
       "    </tr>\n",
       "    <tr>\n",
       "      <th>3</th>\n",
       "      <td>id27757</td>\n",
       "      <td>While I was thinking how I should possibly man...</td>\n",
       "    </tr>\n",
       "    <tr>\n",
       "      <th>4</th>\n",
       "      <td>id04081</td>\n",
       "      <td>I am not sure to what limit his knowledge may ...</td>\n",
       "    </tr>\n",
       "  </tbody>\n",
       "</table>\n",
       "</div>"
      ],
      "text/plain": [
       "        id                                               text\n",
       "0  id02310  Still, as I urged our leaving Ireland with suc...\n",
       "1  id24541  If a fire wanted fanning, it could readily be ...\n",
       "2  id00134  And when they had broken down the frail door t...\n",
       "3  id27757  While I was thinking how I should possibly man...\n",
       "4  id04081  I am not sure to what limit his knowledge may ..."
      ]
     },
     "execution_count": 138,
     "metadata": {},
     "output_type": "execute_result"
    }
   ],
   "source": [
    "df.head()"
   ]
  },
  {
   "cell_type": "code",
   "execution_count": 139,
   "metadata": {
    "execution": {
     "iopub.execute_input": "2023-03-31T13:11:26.711455Z",
     "iopub.status.busy": "2023-03-31T13:11:26.710936Z",
     "iopub.status.idle": "2023-03-31T13:11:26.723512Z",
     "shell.execute_reply": "2023-03-31T13:11:26.721610Z",
     "shell.execute_reply.started": "2023-03-31T13:11:26.711415Z"
    }
   },
   "outputs": [
    {
     "data": {
      "text/plain": [
       "Index(['id', 'text'], dtype='object')"
      ]
     },
     "execution_count": 139,
     "metadata": {},
     "output_type": "execute_result"
    }
   ],
   "source": [
    "df.columns"
   ]
  },
  {
   "cell_type": "code",
   "execution_count": 140,
   "metadata": {
    "execution": {
     "iopub.execute_input": "2023-03-31T13:11:26.726593Z",
     "iopub.status.busy": "2023-03-31T13:11:26.726088Z",
     "iopub.status.idle": "2023-03-31T13:11:26.741999Z",
     "shell.execute_reply": "2023-03-31T13:11:26.740073Z",
     "shell.execute_reply.started": "2023-03-31T13:11:26.726550Z"
    }
   },
   "outputs": [
    {
     "data": {
      "text/plain": [
       "<bound method DataFrame.info of            id                                               text\n",
       "0     id02310  Still, as I urged our leaving Ireland with suc...\n",
       "1     id24541  If a fire wanted fanning, it could readily be ...\n",
       "2     id00134  And when they had broken down the frail door t...\n",
       "3     id27757  While I was thinking how I should possibly man...\n",
       "4     id04081  I am not sure to what limit his knowledge may ...\n",
       "...       ...                                                ...\n",
       "8387  id11749         All this is now the fitter for my purpose.\n",
       "8388  id10526                 I fixed myself on a wide solitude.\n",
       "8389  id13477  It is easily understood that what might improv...\n",
       "8390  id13761  Be this as it may, I now began to feel the ins...\n",
       "8391  id04282  Long winded, statistical, and drearily genealo...\n",
       "\n",
       "[8392 rows x 2 columns]>"
      ]
     },
     "execution_count": 140,
     "metadata": {},
     "output_type": "execute_result"
    }
   ],
   "source": [
    "df.info"
   ]
  },
  {
   "cell_type": "code",
   "execution_count": 141,
   "metadata": {
    "execution": {
     "iopub.execute_input": "2023-03-31T13:11:26.767324Z",
     "iopub.status.busy": "2023-03-31T13:11:26.765353Z",
     "iopub.status.idle": "2023-03-31T13:11:26.837104Z",
     "shell.execute_reply": "2023-03-31T13:11:26.835132Z",
     "shell.execute_reply.started": "2023-03-31T13:11:26.767215Z"
    }
   },
   "outputs": [
    {
     "data": {
      "text/html": [
       "<div>\n",
       "<style scoped>\n",
       "    .dataframe tbody tr th:only-of-type {\n",
       "        vertical-align: middle;\n",
       "    }\n",
       "\n",
       "    .dataframe tbody tr th {\n",
       "        vertical-align: top;\n",
       "    }\n",
       "\n",
       "    .dataframe thead th {\n",
       "        text-align: right;\n",
       "    }\n",
       "</style>\n",
       "<table border=\"1\" class=\"dataframe\">\n",
       "  <thead>\n",
       "    <tr style=\"text-align: right;\">\n",
       "      <th></th>\n",
       "      <th>id</th>\n",
       "      <th>text</th>\n",
       "      <th>author</th>\n",
       "    </tr>\n",
       "  </thead>\n",
       "  <tbody>\n",
       "    <tr>\n",
       "      <th>0</th>\n",
       "      <td>id26305</td>\n",
       "      <td>This process, however, afforded me no means of...</td>\n",
       "      <td>EAP</td>\n",
       "    </tr>\n",
       "    <tr>\n",
       "      <th>1</th>\n",
       "      <td>id17569</td>\n",
       "      <td>It never once occurred to me that the fumbling...</td>\n",
       "      <td>HPL</td>\n",
       "    </tr>\n",
       "    <tr>\n",
       "      <th>2</th>\n",
       "      <td>id11008</td>\n",
       "      <td>In his left hand was a gold snuff box, from wh...</td>\n",
       "      <td>EAP</td>\n",
       "    </tr>\n",
       "    <tr>\n",
       "      <th>3</th>\n",
       "      <td>id27763</td>\n",
       "      <td>How lovely is spring As we looked from Windsor...</td>\n",
       "      <td>MWS</td>\n",
       "    </tr>\n",
       "    <tr>\n",
       "      <th>4</th>\n",
       "      <td>id12958</td>\n",
       "      <td>Finding nothing else, not even gold, the Super...</td>\n",
       "      <td>HPL</td>\n",
       "    </tr>\n",
       "    <tr>\n",
       "      <th>...</th>\n",
       "      <td>...</td>\n",
       "      <td>...</td>\n",
       "      <td>...</td>\n",
       "    </tr>\n",
       "    <tr>\n",
       "      <th>19574</th>\n",
       "      <td>id17718</td>\n",
       "      <td>I could have fancied, while I looked at it, th...</td>\n",
       "      <td>EAP</td>\n",
       "    </tr>\n",
       "    <tr>\n",
       "      <th>19575</th>\n",
       "      <td>id08973</td>\n",
       "      <td>The lids clenched themselves together as if in...</td>\n",
       "      <td>EAP</td>\n",
       "    </tr>\n",
       "    <tr>\n",
       "      <th>19576</th>\n",
       "      <td>id05267</td>\n",
       "      <td>Mais il faut agir that is to say, a Frenchman ...</td>\n",
       "      <td>EAP</td>\n",
       "    </tr>\n",
       "    <tr>\n",
       "      <th>19577</th>\n",
       "      <td>id17513</td>\n",
       "      <td>For an item of news like this, it strikes us i...</td>\n",
       "      <td>EAP</td>\n",
       "    </tr>\n",
       "    <tr>\n",
       "      <th>19578</th>\n",
       "      <td>id00393</td>\n",
       "      <td>He laid a gnarled claw on my shoulder, and it ...</td>\n",
       "      <td>HPL</td>\n",
       "    </tr>\n",
       "  </tbody>\n",
       "</table>\n",
       "<p>19579 rows × 3 columns</p>\n",
       "</div>"
      ],
      "text/plain": [
       "            id                                               text author\n",
       "0      id26305  This process, however, afforded me no means of...    EAP\n",
       "1      id17569  It never once occurred to me that the fumbling...    HPL\n",
       "2      id11008  In his left hand was a gold snuff box, from wh...    EAP\n",
       "3      id27763  How lovely is spring As we looked from Windsor...    MWS\n",
       "4      id12958  Finding nothing else, not even gold, the Super...    HPL\n",
       "...        ...                                                ...    ...\n",
       "19574  id17718  I could have fancied, while I looked at it, th...    EAP\n",
       "19575  id08973  The lids clenched themselves together as if in...    EAP\n",
       "19576  id05267  Mais il faut agir that is to say, a Frenchman ...    EAP\n",
       "19577  id17513  For an item of news like this, it strikes us i...    EAP\n",
       "19578  id00393  He laid a gnarled claw on my shoulder, and it ...    HPL\n",
       "\n",
       "[19579 rows x 3 columns]"
      ]
     },
     "execution_count": 141,
     "metadata": {},
     "output_type": "execute_result"
    }
   ],
   "source": [
    "df1=pd.read_csv(\"/kaggle/input/heber-data-science-spooky-author-classification/train/train.csv\")\n",
    "df1"
   ]
  },
  {
   "cell_type": "code",
   "execution_count": 142,
   "metadata": {
    "execution": {
     "iopub.execute_input": "2023-03-31T13:11:26.841330Z",
     "iopub.status.busy": "2023-03-31T13:11:26.840376Z",
     "iopub.status.idle": "2023-03-31T13:11:26.856815Z",
     "shell.execute_reply": "2023-03-31T13:11:26.855346Z",
     "shell.execute_reply.started": "2023-03-31T13:11:26.841267Z"
    }
   },
   "outputs": [
    {
     "data": {
      "text/html": [
       "<div>\n",
       "<style scoped>\n",
       "    .dataframe tbody tr th:only-of-type {\n",
       "        vertical-align: middle;\n",
       "    }\n",
       "\n",
       "    .dataframe tbody tr th {\n",
       "        vertical-align: top;\n",
       "    }\n",
       "\n",
       "    .dataframe thead th {\n",
       "        text-align: right;\n",
       "    }\n",
       "</style>\n",
       "<table border=\"1\" class=\"dataframe\">\n",
       "  <thead>\n",
       "    <tr style=\"text-align: right;\">\n",
       "      <th></th>\n",
       "      <th>id</th>\n",
       "      <th>text</th>\n",
       "      <th>author</th>\n",
       "    </tr>\n",
       "  </thead>\n",
       "  <tbody>\n",
       "    <tr>\n",
       "      <th>0</th>\n",
       "      <td>id26305</td>\n",
       "      <td>This process, however, afforded me no means of...</td>\n",
       "      <td>EAP</td>\n",
       "    </tr>\n",
       "    <tr>\n",
       "      <th>1</th>\n",
       "      <td>id17569</td>\n",
       "      <td>It never once occurred to me that the fumbling...</td>\n",
       "      <td>HPL</td>\n",
       "    </tr>\n",
       "    <tr>\n",
       "      <th>2</th>\n",
       "      <td>id11008</td>\n",
       "      <td>In his left hand was a gold snuff box, from wh...</td>\n",
       "      <td>EAP</td>\n",
       "    </tr>\n",
       "    <tr>\n",
       "      <th>3</th>\n",
       "      <td>id27763</td>\n",
       "      <td>How lovely is spring As we looked from Windsor...</td>\n",
       "      <td>MWS</td>\n",
       "    </tr>\n",
       "    <tr>\n",
       "      <th>4</th>\n",
       "      <td>id12958</td>\n",
       "      <td>Finding nothing else, not even gold, the Super...</td>\n",
       "      <td>HPL</td>\n",
       "    </tr>\n",
       "  </tbody>\n",
       "</table>\n",
       "</div>"
      ],
      "text/plain": [
       "        id                                               text author\n",
       "0  id26305  This process, however, afforded me no means of...    EAP\n",
       "1  id17569  It never once occurred to me that the fumbling...    HPL\n",
       "2  id11008  In his left hand was a gold snuff box, from wh...    EAP\n",
       "3  id27763  How lovely is spring As we looked from Windsor...    MWS\n",
       "4  id12958  Finding nothing else, not even gold, the Super...    HPL"
      ]
     },
     "execution_count": 142,
     "metadata": {},
     "output_type": "execute_result"
    }
   ],
   "source": [
    "df1.head()"
   ]
  },
  {
   "cell_type": "code",
   "execution_count": 143,
   "metadata": {
    "execution": {
     "iopub.execute_input": "2023-03-31T13:11:26.860153Z",
     "iopub.status.busy": "2023-03-31T13:11:26.859213Z",
     "iopub.status.idle": "2023-03-31T13:11:26.871394Z",
     "shell.execute_reply": "2023-03-31T13:11:26.869326Z",
     "shell.execute_reply.started": "2023-03-31T13:11:26.860095Z"
    }
   },
   "outputs": [
    {
     "data": {
      "text/plain": [
       "58737"
      ]
     },
     "execution_count": 143,
     "metadata": {},
     "output_type": "execute_result"
    }
   ],
   "source": [
    "df1.size"
   ]
  },
  {
   "cell_type": "code",
   "execution_count": 144,
   "metadata": {
    "execution": {
     "iopub.execute_input": "2023-03-31T13:11:26.875819Z",
     "iopub.status.busy": "2023-03-31T13:11:26.875193Z",
     "iopub.status.idle": "2023-03-31T13:11:26.886951Z",
     "shell.execute_reply": "2023-03-31T13:11:26.885556Z",
     "shell.execute_reply.started": "2023-03-31T13:11:26.875764Z"
    }
   },
   "outputs": [
    {
     "data": {
      "text/plain": [
       "Index(['id', 'text', 'author'], dtype='object')"
      ]
     },
     "execution_count": 144,
     "metadata": {},
     "output_type": "execute_result"
    }
   ],
   "source": [
    "df1.columns"
   ]
  },
  {
   "cell_type": "code",
   "execution_count": 145,
   "metadata": {
    "execution": {
     "iopub.execute_input": "2023-03-31T13:11:26.888903Z",
     "iopub.status.busy": "2023-03-31T13:11:26.888460Z",
     "iopub.status.idle": "2023-03-31T13:11:26.906321Z",
     "shell.execute_reply": "2023-03-31T13:11:26.904704Z",
     "shell.execute_reply.started": "2023-03-31T13:11:26.888863Z"
    }
   },
   "outputs": [
    {
     "data": {
      "text/plain": [
       "<bound method DataFrame.info of             id                                               text author\n",
       "0      id26305  This process, however, afforded me no means of...    EAP\n",
       "1      id17569  It never once occurred to me that the fumbling...    HPL\n",
       "2      id11008  In his left hand was a gold snuff box, from wh...    EAP\n",
       "3      id27763  How lovely is spring As we looked from Windsor...    MWS\n",
       "4      id12958  Finding nothing else, not even gold, the Super...    HPL\n",
       "...        ...                                                ...    ...\n",
       "19574  id17718  I could have fancied, while I looked at it, th...    EAP\n",
       "19575  id08973  The lids clenched themselves together as if in...    EAP\n",
       "19576  id05267  Mais il faut agir that is to say, a Frenchman ...    EAP\n",
       "19577  id17513  For an item of news like this, it strikes us i...    EAP\n",
       "19578  id00393  He laid a gnarled claw on my shoulder, and it ...    HPL\n",
       "\n",
       "[19579 rows x 3 columns]>"
      ]
     },
     "execution_count": 145,
     "metadata": {},
     "output_type": "execute_result"
    }
   ],
   "source": [
    "df1.info"
   ]
  },
  {
   "cell_type": "code",
   "execution_count": 146,
   "metadata": {
    "execution": {
     "iopub.execute_input": "2023-03-31T13:11:26.912097Z",
     "iopub.status.busy": "2023-03-31T13:11:26.908600Z",
     "iopub.status.idle": "2023-03-31T13:11:26.921805Z",
     "shell.execute_reply": "2023-03-31T13:11:26.919748Z",
     "shell.execute_reply.started": "2023-03-31T13:11:26.912030Z"
    }
   },
   "outputs": [
    {
     "name": "stdout",
     "output_type": "stream",
     "text": [
      "{'HPL', 'EAP', 'MWS'}\n"
     ]
    }
   ],
   "source": [
    "print(set(df1['author']))"
   ]
  },
  {
   "cell_type": "code",
   "execution_count": 147,
   "metadata": {
    "execution": {
     "iopub.execute_input": "2023-03-31T13:11:26.926960Z",
     "iopub.status.busy": "2023-03-31T13:11:26.925387Z",
     "iopub.status.idle": "2023-03-31T13:11:26.943045Z",
     "shell.execute_reply": "2023-03-31T13:11:26.941790Z",
     "shell.execute_reply.started": "2023-03-31T13:11:26.926895Z"
    }
   },
   "outputs": [
    {
     "data": {
      "text/plain": [
       "'You are well aware that chemical preparations exist, and have existed time out of mind, by means of which it is possible to write upon either paper or vellum, so that the characters shall become visible only when subjected to the action of fire.'"
      ]
     },
     "execution_count": 147,
     "metadata": {},
     "output_type": "execute_result"
    }
   ],
   "source": [
    "np.random.seed(123)\n",
    "np.random.choice(df1.loc[df1['author']=='EAP','text'])"
   ]
  },
  {
   "cell_type": "code",
   "execution_count": 148,
   "metadata": {
    "execution": {
     "iopub.execute_input": "2023-03-31T13:11:26.945846Z",
     "iopub.status.busy": "2023-03-31T13:11:26.945383Z",
     "iopub.status.idle": "2023-03-31T13:11:26.961211Z",
     "shell.execute_reply": "2023-03-31T13:11:26.959182Z",
     "shell.execute_reply.started": "2023-03-31T13:11:26.945806Z"
    }
   },
   "outputs": [
    {
     "data": {
      "text/plain": [
       "'The pile of tools soon reached, and a hammer and chisel selected, Birch returned over the coffins to the door.'"
      ]
     },
     "execution_count": 148,
     "metadata": {},
     "output_type": "execute_result"
    }
   ],
   "source": [
    "np.random.choice(df1.loc[df1['author']=='HPL','text'])"
   ]
  },
  {
   "cell_type": "code",
   "execution_count": 149,
   "metadata": {
    "execution": {
     "iopub.execute_input": "2023-03-31T13:11:26.963590Z",
     "iopub.status.busy": "2023-03-31T13:11:26.962833Z",
     "iopub.status.idle": "2023-03-31T13:11:26.972316Z",
     "shell.execute_reply": "2023-03-31T13:11:26.970709Z",
     "shell.execute_reply.started": "2023-03-31T13:11:26.963494Z"
    }
   },
   "outputs": [],
   "source": [
    "#Dictionary with Author names for more understandable Plots\n",
    "author_dict = {\n",
    "    'EAP': 'Edgar Allan Poe',\n",
    "    'HPL': 'HP Lovecraft',\n",
    "    'MWS': 'Mary Shelley'\n",
    "}"
   ]
  },
  {
   "cell_type": "markdown",
   "metadata": {},
   "source": [
    "# Processing functions"
   ]
  },
  {
   "cell_type": "markdown",
   "metadata": {},
   "source": [
    "# Normalization Function"
   ]
  },
  {
   "cell_type": "markdown",
   "metadata": {},
   "source": [
    "### Normalization over number of words"
   ]
  },
  {
   "cell_type": "code",
   "execution_count": 150,
   "metadata": {
    "execution": {
     "iopub.execute_input": "2023-03-31T13:11:26.974368Z",
     "iopub.status.busy": "2023-03-31T13:11:26.973820Z",
     "iopub.status.idle": "2023-03-31T13:11:26.987792Z",
     "shell.execute_reply": "2023-03-31T13:11:26.986539Z",
     "shell.execute_reply.started": "2023-03-31T13:11:26.974317Z"
    }
   },
   "outputs": [],
   "source": [
    "def normalization_word(var):\n",
    "    \"\"\"Returns number of words.\"\"\"\n",
    "    words = nltk.Text(word_tokenize(((var))))\n",
    "    return len(words)"
   ]
  },
  {
   "cell_type": "markdown",
   "metadata": {},
   "source": [
    "### Normalization by number of Sentences"
   ]
  },
  {
   "cell_type": "code",
   "execution_count": 151,
   "metadata": {
    "execution": {
     "iopub.execute_input": "2023-03-31T13:11:26.989714Z",
     "iopub.status.busy": "2023-03-31T13:11:26.989123Z",
     "iopub.status.idle": "2023-03-31T13:11:27.007346Z",
     "shell.execute_reply": "2023-03-31T13:11:27.005316Z",
     "shell.execute_reply.started": "2023-03-31T13:11:26.989664Z"
    }
   },
   "outputs": [],
   "source": [
    "def normalization_sentence(var):\n",
    "    \"\"\"Returns number of sentences.\"\"\"\n",
    "    sentences = nltk.Text(sent_tokenize(var))\n",
    "    return len(sentences)"
   ]
  },
  {
   "cell_type": "markdown",
   "metadata": {},
   "source": [
    "### Normalization by number of Characters"
   ]
  },
  {
   "cell_type": "code",
   "execution_count": 152,
   "metadata": {
    "execution": {
     "iopub.execute_input": "2023-03-31T13:11:27.013700Z",
     "iopub.status.busy": "2023-03-31T13:11:27.012453Z",
     "iopub.status.idle": "2023-03-31T13:11:27.020893Z",
     "shell.execute_reply": "2023-03-31T13:11:27.019155Z",
     "shell.execute_reply.started": "2023-03-31T13:11:27.013634Z"
    }
   },
   "outputs": [],
   "source": [
    "def normalization_character(var):\n",
    "    \"\"\"Returns number of characters.\"\"\"\n",
    "    return len(var)"
   ]
  },
  {
   "cell_type": "markdown",
   "metadata": {},
   "source": [
    "# Cleaning Function"
   ]
  },
  {
   "cell_type": "code",
   "execution_count": 153,
   "metadata": {
    "execution": {
     "iopub.execute_input": "2023-03-31T13:11:27.024896Z",
     "iopub.status.busy": "2023-03-31T13:11:27.022787Z",
     "iopub.status.idle": "2023-03-31T13:11:27.036256Z",
     "shell.execute_reply": "2023-03-31T13:11:27.034488Z",
     "shell.execute_reply.started": "2023-03-31T13:11:27.024806Z"
    }
   },
   "outputs": [],
   "source": [
    "def cleaning(var):\n",
    "    \"\"\"Take a string. Returns a string with only lowercase letters and the space between words.\"\"\"\n",
    "    plain_string = \"\"\n",
    "    for x in var:\n",
    "        x = x.lower()\n",
    "        if (('a' <= x and x <= 'z') or x == ' '):\n",
    "            plain_string += x\n",
    "        elif x == '\\'': # any apostrophes(') are replaced by a space \n",
    "            plain_string += ' '\n",
    "    while '  ' in plain_string: # any multiple spaces are replaced by a single space\n",
    "        plain_string = plain_string.replace('  ', ' ')\n",
    "    return plain_string"
   ]
  },
  {
   "cell_type": "markdown",
   "metadata": {},
   "source": [
    "# Creation of the dataframes"
   ]
  },
  {
   "cell_type": "code",
   "execution_count": 154,
   "metadata": {
    "execution": {
     "iopub.execute_input": "2023-03-31T13:11:27.040160Z",
     "iopub.status.busy": "2023-03-31T13:11:27.038980Z",
     "iopub.status.idle": "2023-03-31T13:11:27.055115Z",
     "shell.execute_reply": "2023-03-31T13:11:27.053296Z",
     "shell.execute_reply.started": "2023-03-31T13:11:27.040083Z"
    }
   },
   "outputs": [
    {
     "data": {
      "text/plain": [
       "'This process, however, afforded me no means of ascertaining the dimensions of my dungeon; as I might make its circuit, and return to the point whence I set out, without being aware of the fact; so perfectly uniform seemed the wall.'"
      ]
     },
     "execution_count": 154,
     "metadata": {},
     "output_type": "execute_result"
    }
   ],
   "source": [
    "# just a test cell\n",
    "df = df1['text'][0]\n",
    "df"
   ]
  },
  {
   "cell_type": "markdown",
   "metadata": {},
   "source": [
    "### Word Clouds"
   ]
  },
  {
   "cell_type": "code",
   "execution_count": 155,
   "metadata": {
    "execution": {
     "iopub.execute_input": "2023-03-31T13:11:27.057802Z",
     "iopub.status.busy": "2023-03-31T13:11:27.057012Z",
     "iopub.status.idle": "2023-03-31T13:11:27.894899Z",
     "shell.execute_reply": "2023-03-31T13:11:27.893366Z",
     "shell.execute_reply.started": "2023-03-31T13:11:27.057705Z"
    }
   },
   "outputs": [],
   "source": [
    "# full text from the authors as an array\n",
    "eap = df1[df1.author==\"EAP\"][\"text\"].values\n",
    "hpl = df1[df1.author==\"HPL\"][\"text\"].values\n",
    "mws = df1[df1.author==\"MWS\"][\"text\"].values\n",
    "\n",
    "# full text from the authors as a string\n",
    "eap_s = \" \".join(eap)\n",
    "hpl_s = \" \".join(hpl)\n",
    "mws_s = \" \".join(mws)\n",
    "\n",
    "# full PLAIN text (i.e. no capital and punctuation) from the authors as a string\n",
    "eap_s_c = cleaning(eap_s)\n",
    "hpl_s_c = cleaning(hpl_s)\n",
    "mws_s_c = cleaning(mws_s)"
   ]
  },
  {
   "cell_type": "code",
   "execution_count": 156,
   "metadata": {
    "execution": {
     "iopub.execute_input": "2023-03-31T13:11:27.897796Z",
     "iopub.status.busy": "2023-03-31T13:11:27.896434Z",
     "iopub.status.idle": "2023-03-31T13:11:27.907679Z",
     "shell.execute_reply": "2023-03-31T13:11:27.906032Z",
     "shell.execute_reply.started": "2023-03-31T13:11:27.897733Z"
    }
   },
   "outputs": [
    {
     "data": {
      "text/plain": [
       "'\\n# Read the whole text\\nlist_text = [eap_s_c, hpl_s_c, mws_s_c]\\n\\n# read the mask image\\n# taken from http://www.stencilry.org/\\neap_mask = np.array(Image.open(\"eap_mask.jpg\"))\\nhpl_mask = np.array(Image.open(\"hpl_mask.jpg\"))\\nmws_mask = np.array(Image.open(\"mws_mask.jpg\"))\\nlist_mask = [eap_mask, hpl_mask, mws_mask]\\n\\nstopwords = set(STOPWORDS)\\n\\nfor i in range(3):\\n    wc = WordCloud(background_color=\"white\", max_words=2000, mask=list_mask[i],\\n                   stopwords=stopwords)\\n    # generate word cloud\\n    wc.generate(list_text[i])\\n    # show\\n    plt.imshow(wc, interpolation=\\'bilinear\\')\\n    plt.title(\\'Wordcloud of author \\' + author_list[i])\\n    plt.axis(\"off\")\\n    plt.figure()\\n    # store to file\\n    wc.to_file(\"{}_wordcloud.png\".format(author_list[i]))\\n    \\nplt.show()\\n'"
      ]
     },
     "execution_count": 156,
     "metadata": {},
     "output_type": "execute_result"
    }
   ],
   "source": [
    "'''\n",
    "# Read the whole text\n",
    "list_text = [eap_s_c, hpl_s_c, mws_s_c]\n",
    "\n",
    "# read the mask image\n",
    "# taken from http://www.stencilry.org/\n",
    "eap_mask = np.array(Image.open(\"eap_mask.jpg\"))\n",
    "hpl_mask = np.array(Image.open(\"hpl_mask.jpg\"))\n",
    "mws_mask = np.array(Image.open(\"mws_mask.jpg\"))\n",
    "list_mask = [eap_mask, hpl_mask, mws_mask]\n",
    "\n",
    "stopwords = set(STOPWORDS)\n",
    "\n",
    "for i in range(3):\n",
    "    wc = WordCloud(background_color=\"white\", max_words=2000, mask=list_mask[i],\n",
    "                   stopwords=stopwords)\n",
    "    # generate word cloud\n",
    "    wc.generate(list_text[i])\n",
    "    # show\n",
    "    plt.imshow(wc, interpolation='bilinear')\n",
    "    plt.title('Wordcloud of author ' + author_list[i])\n",
    "    plt.axis(\"off\")\n",
    "    plt.figure()\n",
    "    # store to file\n",
    "    wc.to_file(\"{}_wordcloud.png\".format(author_list[i]))\n",
    "    \n",
    "plt.show()\n",
    "'''"
   ]
  },
  {
   "cell_type": "markdown",
   "metadata": {},
   "source": [
    "# Splitting the training set."
   ]
  },
  {
   "cell_type": "code",
   "execution_count": 157,
   "metadata": {
    "execution": {
     "iopub.execute_input": "2023-03-31T13:11:27.909802Z",
     "iopub.status.busy": "2023-03-31T13:11:27.909163Z",
     "iopub.status.idle": "2023-03-31T13:11:27.927493Z",
     "shell.execute_reply": "2023-03-31T13:11:27.925890Z",
     "shell.execute_reply.started": "2023-03-31T13:11:27.909759Z"
    }
   },
   "outputs": [],
   "source": [
    "t0 = df1.copy()"
   ]
  },
  {
   "cell_type": "code",
   "execution_count": 158,
   "metadata": {
    "execution": {
     "iopub.execute_input": "2023-03-31T13:11:27.929478Z",
     "iopub.status.busy": "2023-03-31T13:11:27.928726Z",
     "iopub.status.idle": "2023-03-31T13:11:27.939654Z",
     "shell.execute_reply": "2023-03-31T13:11:27.938210Z",
     "shell.execute_reply.started": "2023-03-31T13:11:27.929432Z"
    }
   },
   "outputs": [],
   "source": [
    "from sklearn.model_selection import train_test_split"
   ]
  },
  {
   "cell_type": "code",
   "execution_count": 159,
   "metadata": {
    "execution": {
     "iopub.execute_input": "2023-03-31T13:11:27.947622Z",
     "iopub.status.busy": "2023-03-31T13:11:27.946341Z",
     "iopub.status.idle": "2023-03-31T13:11:27.963460Z",
     "shell.execute_reply": "2023-03-31T13:11:27.961834Z",
     "shell.execute_reply.started": "2023-03-31T13:11:27.947558Z"
    }
   },
   "outputs": [
    {
     "name": "stdout",
     "output_type": "stream",
     "text": [
      "19579\n",
      "14684\n",
      "4895\n",
      "0.7499872312171204\n",
      "0.2500127687828796\n",
      "1.0\n"
     ]
    }
   ],
   "source": [
    "tr1, ts1 = train_test_split(t0, test_size=20/80)\n",
    "# 20% to tr1 and 80% to ts1\n",
    "\n",
    "print(len(t0))\n",
    "print(len(tr1))\n",
    "print(len(ts1))\n",
    "print(len(tr1) / len(t0))\n",
    "print(len(ts1) / len(t0))\n",
    "print((len(tr1) / len(t0)) + (len(ts1) / len(t0)))"
   ]
  },
  {
   "cell_type": "code",
   "execution_count": 160,
   "metadata": {
    "execution": {
     "iopub.execute_input": "2023-03-31T13:11:27.967321Z",
     "iopub.status.busy": "2023-03-31T13:11:27.965750Z",
     "iopub.status.idle": "2023-03-31T13:11:27.983526Z",
     "shell.execute_reply": "2023-03-31T13:11:27.981766Z",
     "shell.execute_reply.started": "2023-03-31T13:11:27.967252Z"
    }
   },
   "outputs": [
    {
     "data": {
      "text/html": [
       "<div>\n",
       "<style scoped>\n",
       "    .dataframe tbody tr th:only-of-type {\n",
       "        vertical-align: middle;\n",
       "    }\n",
       "\n",
       "    .dataframe tbody tr th {\n",
       "        vertical-align: top;\n",
       "    }\n",
       "\n",
       "    .dataframe thead th {\n",
       "        text-align: right;\n",
       "    }\n",
       "</style>\n",
       "<table border=\"1\" class=\"dataframe\">\n",
       "  <thead>\n",
       "    <tr style=\"text-align: right;\">\n",
       "      <th></th>\n",
       "      <th>id</th>\n",
       "      <th>text</th>\n",
       "      <th>author</th>\n",
       "    </tr>\n",
       "  </thead>\n",
       "  <tbody>\n",
       "    <tr>\n",
       "      <th>14759</th>\n",
       "      <td>id23017</td>\n",
       "      <td>\"Long have I missed thee, Aira, for I was but ...</td>\n",
       "      <td>HPL</td>\n",
       "    </tr>\n",
       "    <tr>\n",
       "      <th>8527</th>\n",
       "      <td>id19417</td>\n",
       "      <td>This panorama is indeed glorious, and I should...</td>\n",
       "      <td>EAP</td>\n",
       "    </tr>\n",
       "    <tr>\n",
       "      <th>6629</th>\n",
       "      <td>id06550</td>\n",
       "      <td>Men usually grow base by degrees.</td>\n",
       "      <td>EAP</td>\n",
       "    </tr>\n",
       "    <tr>\n",
       "      <th>7095</th>\n",
       "      <td>id03841</td>\n",
       "      <td>Now you yourself, my dearest Eugenie, can have...</td>\n",
       "      <td>EAP</td>\n",
       "    </tr>\n",
       "    <tr>\n",
       "      <th>6011</th>\n",
       "      <td>id06456</td>\n",
       "      <td>I s'pose it's cheap enough, but I never see mo...</td>\n",
       "      <td>HPL</td>\n",
       "    </tr>\n",
       "  </tbody>\n",
       "</table>\n",
       "</div>"
      ],
      "text/plain": [
       "            id                                               text author\n",
       "14759  id23017  \"Long have I missed thee, Aira, for I was but ...    HPL\n",
       "8527   id19417  This panorama is indeed glorious, and I should...    EAP\n",
       "6629   id06550                  Men usually grow base by degrees.    EAP\n",
       "7095   id03841  Now you yourself, my dearest Eugenie, can have...    EAP\n",
       "6011   id06456  I s'pose it's cheap enough, but I never see mo...    HPL"
      ]
     },
     "execution_count": 160,
     "metadata": {},
     "output_type": "execute_result"
    }
   ],
   "source": [
    "tr1.head()"
   ]
  },
  {
   "cell_type": "code",
   "execution_count": 161,
   "metadata": {
    "execution": {
     "iopub.execute_input": "2023-03-31T13:11:27.987035Z",
     "iopub.status.busy": "2023-03-31T13:11:27.986017Z",
     "iopub.status.idle": "2023-03-31T13:11:28.004448Z",
     "shell.execute_reply": "2023-03-31T13:11:28.000804Z",
     "shell.execute_reply.started": "2023-03-31T13:11:27.986983Z"
    }
   },
   "outputs": [
    {
     "data": {
      "text/html": [
       "<div>\n",
       "<style scoped>\n",
       "    .dataframe tbody tr th:only-of-type {\n",
       "        vertical-align: middle;\n",
       "    }\n",
       "\n",
       "    .dataframe tbody tr th {\n",
       "        vertical-align: top;\n",
       "    }\n",
       "\n",
       "    .dataframe thead th {\n",
       "        text-align: right;\n",
       "    }\n",
       "</style>\n",
       "<table border=\"1\" class=\"dataframe\">\n",
       "  <thead>\n",
       "    <tr style=\"text-align: right;\">\n",
       "      <th></th>\n",
       "      <th>id</th>\n",
       "      <th>text</th>\n",
       "      <th>author</th>\n",
       "    </tr>\n",
       "  </thead>\n",
       "  <tbody>\n",
       "    <tr>\n",
       "      <th>11090</th>\n",
       "      <td>id21412</td>\n",
       "      <td>Having done all this in a neat speech, I took ...</td>\n",
       "      <td>EAP</td>\n",
       "    </tr>\n",
       "    <tr>\n",
       "      <th>9120</th>\n",
       "      <td>id26386</td>\n",
       "      <td>An advanced guard gave information of our appr...</td>\n",
       "      <td>MWS</td>\n",
       "    </tr>\n",
       "    <tr>\n",
       "      <th>18437</th>\n",
       "      <td>id23355</td>\n",
       "      <td>So, at least I thought: but I had not counted ...</td>\n",
       "      <td>EAP</td>\n",
       "    </tr>\n",
       "    <tr>\n",
       "      <th>5851</th>\n",
       "      <td>id01085</td>\n",
       "      <td>A sort of mad eyed monstrosity behind the lead...</td>\n",
       "      <td>HPL</td>\n",
       "    </tr>\n",
       "    <tr>\n",
       "      <th>13599</th>\n",
       "      <td>id07451</td>\n",
       "      <td>Surveying the conditions, I chose the more sou...</td>\n",
       "      <td>HPL</td>\n",
       "    </tr>\n",
       "  </tbody>\n",
       "</table>\n",
       "</div>"
      ],
      "text/plain": [
       "            id                                               text author\n",
       "11090  id21412  Having done all this in a neat speech, I took ...    EAP\n",
       "9120   id26386  An advanced guard gave information of our appr...    MWS\n",
       "18437  id23355  So, at least I thought: but I had not counted ...    EAP\n",
       "5851   id01085  A sort of mad eyed monstrosity behind the lead...    HPL\n",
       "13599  id07451  Surveying the conditions, I chose the more sou...    HPL"
      ]
     },
     "execution_count": 161,
     "metadata": {},
     "output_type": "execute_result"
    }
   ],
   "source": [
    "ts1.head()"
   ]
  },
  {
   "cell_type": "markdown",
   "metadata": {},
   "source": [
    "# Feature Engineering"
   ]
  },
  {
   "cell_type": "markdown",
   "metadata": {},
   "source": [
    "### Meta Features"
   ]
  },
  {
   "cell_type": "markdown",
   "metadata": {},
   "source": [
    "### Average sentence length (in characters)"
   ]
  },
  {
   "cell_type": "code",
   "execution_count": 162,
   "metadata": {
    "execution": {
     "iopub.execute_input": "2023-03-31T13:11:28.007190Z",
     "iopub.status.busy": "2023-03-31T13:11:28.006602Z",
     "iopub.status.idle": "2023-03-31T13:11:28.014067Z",
     "shell.execute_reply": "2023-03-31T13:11:28.012802Z",
     "shell.execute_reply.started": "2023-03-31T13:11:28.007132Z"
    }
   },
   "outputs": [],
   "source": [
    "def length_character(var):\n",
    "    \"\"\"Takes a string returns an int (average sentence length in characters).\"\"\"\n",
    "    return len(var) / normalization_sentence(var)"
   ]
  },
  {
   "cell_type": "markdown",
   "metadata": {},
   "source": [
    "### Average sentence length (in words)"
   ]
  },
  {
   "cell_type": "code",
   "execution_count": 163,
   "metadata": {
    "execution": {
     "iopub.execute_input": "2023-03-31T13:11:28.016988Z",
     "iopub.status.busy": "2023-03-31T13:11:28.015802Z",
     "iopub.status.idle": "2023-03-31T13:11:28.027011Z",
     "shell.execute_reply": "2023-03-31T13:11:28.025445Z",
     "shell.execute_reply.started": "2023-03-31T13:11:28.016943Z"
    }
   },
   "outputs": [],
   "source": [
    "def length_sentence(var):\n",
    "    \"\"\"Takes a string and returns an int (average sentence length in words).\"\"\"\n",
    "    return len(var.split()) / normalization_sentence(var)"
   ]
  },
  {
   "cell_type": "markdown",
   "metadata": {},
   "source": [
    "### Average characters per word"
   ]
  },
  {
   "cell_type": "code",
   "execution_count": 164,
   "metadata": {
    "execution": {
     "iopub.execute_input": "2023-03-31T13:11:28.029585Z",
     "iopub.status.busy": "2023-03-31T13:11:28.028825Z",
     "iopub.status.idle": "2023-03-31T13:11:28.040942Z",
     "shell.execute_reply": "2023-03-31T13:11:28.038867Z",
     "shell.execute_reply.started": "2023-03-31T13:11:28.029539Z"
    }
   },
   "outputs": [],
   "source": [
    "def length_word(var):\n",
    "    \"\"\"Takes a string and returns an int (average characters per word). Excludes punctuations.\"\"\"\n",
    "    return len(var.split()) / normalization_word(var)"
   ]
  },
  {
   "cell_type": "markdown",
   "metadata": {},
   "source": [
    "## Text length"
   ]
  },
  {
   "cell_type": "code",
   "execution_count": 165,
   "metadata": {
    "execution": {
     "iopub.execute_input": "2023-03-31T13:11:28.043601Z",
     "iopub.status.busy": "2023-03-31T13:11:28.042826Z",
     "iopub.status.idle": "2023-03-31T13:11:28.054333Z",
     "shell.execute_reply": "2023-03-31T13:11:28.052360Z",
     "shell.execute_reply.started": "2023-03-31T13:11:28.043556Z"
    }
   },
   "outputs": [],
   "source": [
    "from sklearn.base import TransformerMixin, BaseEstimator\n",
    "class FeatureExtractionClass(TransformerMixin, BaseEstimator):\n",
    "    def fit(self, X, y=None):\n",
    "        return self\n",
    "\n",
    "class TextLength(FeatureExtractionClass):\n",
    "    def transform(self, X, y=None):\n",
    "        return np.array(X['text_length'])[:,np.newaxis]"
   ]
  },
  {
   "cell_type": "markdown",
   "metadata": {},
   "source": [
    "## Percentage of unique words per sentence"
   ]
  },
  {
   "cell_type": "code",
   "execution_count": 166,
   "metadata": {
    "execution": {
     "iopub.execute_input": "2023-03-31T13:11:28.058467Z",
     "iopub.status.busy": "2023-03-31T13:11:28.056494Z",
     "iopub.status.idle": "2023-03-31T13:11:28.068150Z",
     "shell.execute_reply": "2023-03-31T13:11:28.066505Z",
     "shell.execute_reply.started": "2023-03-31T13:11:28.058410Z"
    }
   },
   "outputs": [],
   "source": [
    "def vocabulary_sentence(var):\n",
    "    \"\"\"Takes a string and returns the ratio of different words to all words.\"\"\"\n",
    "    var = nltk.Text(sent_tokenize(var))\n",
    "    vocabulary_list = []\n",
    "    for c in var:\n",
    "        if normalization_word(c) != 0:\n",
    "            vacabulary_count_sentence = len({x.lower() for x in word_tokenize(cleaning(c))})\n",
    "            vocabulary_list.append(vacabulary_count_sentence / normalization_word(c))\n",
    "    return np.mean(vocabulary_list)"
   ]
  },
  {
   "cell_type": "code",
   "execution_count": 167,
   "metadata": {
    "execution": {
     "iopub.execute_input": "2023-03-31T13:11:28.071265Z",
     "iopub.status.busy": "2023-03-31T13:11:28.070462Z",
     "iopub.status.idle": "2023-03-31T13:11:28.093919Z",
     "shell.execute_reply": "2023-03-31T13:11:28.091514Z",
     "shell.execute_reply.started": "2023-03-31T13:11:28.071189Z"
    }
   },
   "outputs": [
    {
     "data": {
      "text/plain": [
       "0.7386363636363636"
      ]
     },
     "execution_count": 167,
     "metadata": {},
     "output_type": "execute_result"
    }
   ],
   "source": [
    "# just a test cell\n",
    "\n",
    "vocabulary_sentence(\"Wow, this is a bad one. On Macs running the latest version of High Sierra (10.13.1 (17B48)), it appears that anyone can log\" )"
   ]
  },
  {
   "cell_type": "markdown",
   "metadata": {},
   "source": [
    "# Sentiment Analysis"
   ]
  },
  {
   "cell_type": "code",
   "execution_count": 168,
   "metadata": {
    "execution": {
     "iopub.execute_input": "2023-03-31T13:11:28.097427Z",
     "iopub.status.busy": "2023-03-31T13:11:28.095991Z",
     "iopub.status.idle": "2023-03-31T13:11:35.401315Z",
     "shell.execute_reply": "2023-03-31T13:11:35.399853Z",
     "shell.execute_reply.started": "2023-03-31T13:11:28.097361Z"
    }
   },
   "outputs": [
    {
     "data": {
      "image/png": "[encoded data removed]",
      "text/plain": [
       "<Figure size 640x480 with 1 Axes>"
      ]
     },
     "metadata": {},
     "output_type": "display_data"
    }
   ],
   "source": [
    "from textblob import TextBlob\n",
    "\n",
    "# Define a function to calculate the sentiment of a text\n",
    "def get_sentiment(text):\n",
    "    blob = TextBlob(text)\n",
    "    sentiment = blob.sentiment.polarity\n",
    "    if sentiment > 0:\n",
    "        return \"Positive\"\n",
    "    elif sentiment < 0:\n",
    "        return \"Negative\"\n",
    "    else:\n",
    "        return \"Neutral\"\n",
    "\n",
    "# Apply the sentiment analysis function to the text data\n",
    "df1[\"sentiment\"] = df1[\"text\"].apply(get_sentiment)\n",
    "\n",
    "# Count the number of texts with each sentiment\n",
    "sentiment_counts = df1[\"sentiment\"].value_counts()\n",
    "\n",
    "# Plot a bar chart of the sentiment counts\n",
    "sentiment_counts.plot(kind=\"bar\")\n",
    "plt.title(\"Sentiment Analysis\")\n",
    "plt.xlabel(\"Sentiment\")\n",
    "plt.ylabel(\"Count\")\n",
    "plt.show()\n"
   ]
  },
  {
   "cell_type": "markdown",
   "metadata": {},
   "source": [
    "# Punctuation"
   ]
  },
  {
   "cell_type": "code",
   "execution_count": 169,
   "metadata": {
    "execution": {
     "iopub.execute_input": "2023-03-31T13:11:35.402984Z",
     "iopub.status.busy": "2023-03-31T13:11:35.402608Z",
     "iopub.status.idle": "2023-03-31T13:11:35.410762Z",
     "shell.execute_reply": "2023-03-31T13:11:35.409172Z",
     "shell.execute_reply.started": "2023-03-31T13:11:35.402948Z"
    }
   },
   "outputs": [
    {
     "name": "stdout",
     "output_type": "stream",
     "text": [
      "They had received orders that if I were again taken, I should be brought to the Earl; and his lenity made them expect a conclusion which they considered ill befitting my crime.\n"
     ]
    }
   ],
   "source": [
    "sample_txt=df1['text'][123]\n",
    "print(sample_txt)"
   ]
  },
  {
   "cell_type": "code",
   "execution_count": 170,
   "metadata": {
    "execution": {
     "iopub.execute_input": "2023-03-31T13:11:35.412928Z",
     "iopub.status.busy": "2023-03-31T13:11:35.412514Z",
     "iopub.status.idle": "2023-03-31T13:11:35.426690Z",
     "shell.execute_reply": "2023-03-31T13:11:35.424477Z",
     "shell.execute_reply.started": "2023-03-31T13:11:35.412890Z"
    },
    "jupyter": {
     "source_hidden": true
    }
   },
   "outputs": [
    {
     "data": {
      "text/plain": [
       "'!\"#$%&\\'()*+,-./:;<=>?@[\\\\]^_`{|}~'"
      ]
     },
     "execution_count": 170,
     "metadata": {},
     "output_type": "execute_result"
    }
   ],
   "source": [
    "import string\n",
    "punct = string.punctuation\n",
    "punct"
   ]
  },
  {
   "cell_type": "markdown",
   "metadata": {},
   "source": [
    "# Tokenization"
   ]
  },
  {
   "cell_type": "code",
   "execution_count": 171,
   "metadata": {
    "execution": {
     "iopub.execute_input": "2023-03-31T13:11:35.429093Z",
     "iopub.status.busy": "2023-03-31T13:11:35.428632Z",
     "iopub.status.idle": "2023-03-31T13:11:35.437859Z",
     "shell.execute_reply": "2023-03-31T13:11:35.436361Z",
     "shell.execute_reply.started": "2023-03-31T13:11:35.429033Z"
    }
   },
   "outputs": [
    {
     "name": "stdout",
     "output_type": "stream",
     "text": [
      "['They', 'had', 'received', 'orders', 'that', 'if', 'I', 'were', 'again', 'taken', 'I', 'should', 'be', 'brought', 'to', 'the', 'Earl', 'and', 'his', 'lenity', 'made', 'them', 'expect', 'a', 'conclusion', 'which', 'they', 'considered', 'ill', 'befitting', 'my', 'crime']\n"
     ]
    }
   ],
   "source": [
    "from nltk.tokenize import RegexpTokenizer\n",
    "qword_tokenizer = RegexpTokenizer(r'\\w+')\n",
    "words = qword_tokenizer.tokenize(sample_txt)\n",
    "print(words)"
   ]
  },
  {
   "cell_type": "code",
   "execution_count": 172,
   "metadata": {
    "execution": {
     "iopub.execute_input": "2023-03-31T13:11:35.442028Z",
     "iopub.status.busy": "2023-03-31T13:11:35.441465Z",
     "iopub.status.idle": "2023-03-31T13:11:35.452158Z",
     "shell.execute_reply": "2023-03-31T13:11:35.450782Z",
     "shell.execute_reply.started": "2023-03-31T13:11:35.441974Z"
    }
   },
   "outputs": [
    {
     "name": "stdout",
     "output_type": "stream",
     "text": [
      "['I', 'can', 't', 'do', 'it']\n"
     ]
    }
   ],
   "source": [
    "print(qword_tokenizer.tokenize(\"I can't do it\"))"
   ]
  },
  {
   "cell_type": "markdown",
   "metadata": {},
   "source": [
    "# Number of words in text"
   ]
  },
  {
   "cell_type": "code",
   "execution_count": 173,
   "metadata": {
    "execution": {
     "iopub.execute_input": "2023-03-31T13:11:35.454820Z",
     "iopub.status.busy": "2023-03-31T13:11:35.454044Z",
     "iopub.status.idle": "2023-03-31T13:11:35.619847Z",
     "shell.execute_reply": "2023-03-31T13:11:35.618464Z",
     "shell.execute_reply.started": "2023-03-31T13:11:35.454769Z"
    }
   },
   "outputs": [
    {
     "data": {
      "text/plain": [
       "array([41, 14, 36, ..., 13, 15, 22])"
      ]
     },
     "execution_count": 173,
     "metadata": {},
     "output_type": "execute_result"
    }
   ],
   "source": [
    "class CountWords(FeatureExtractionClass):\n",
    "    def transform(self, X, y=None):\n",
    "        #return np.array(data['nwords'])[:,np.newaxis]\n",
    "        return np.array([len(qword_tokenizer.tokenize(txt)) for txt in X['text']])\n",
    "CountWords().transform(df1)"
   ]
  },
  {
   "cell_type": "code",
   "execution_count": 174,
   "metadata": {
    "execution": {
     "iopub.execute_input": "2023-03-31T13:11:35.622788Z",
     "iopub.status.busy": "2023-03-31T13:11:35.621613Z",
     "iopub.status.idle": "2023-03-31T13:11:35.628431Z",
     "shell.execute_reply": "2023-03-31T13:11:35.626911Z",
     "shell.execute_reply.started": "2023-03-31T13:11:35.622745Z"
    }
   },
   "outputs": [],
   "source": [
    "import matplotlib.pyplot as plt"
   ]
  },
  {
   "cell_type": "markdown",
   "metadata": {},
   "source": [
    "# Stop words"
   ]
  },
  {
   "cell_type": "code",
   "execution_count": 175,
   "metadata": {
    "execution": {
     "iopub.execute_input": "2023-03-31T13:11:35.633432Z",
     "iopub.status.busy": "2023-03-31T13:11:35.632656Z",
     "iopub.status.idle": "2023-03-31T13:11:35.646590Z",
     "shell.execute_reply": "2023-03-31T13:11:35.644239Z",
     "shell.execute_reply.started": "2023-03-31T13:11:35.633380Z"
    }
   },
   "outputs": [
    {
     "data": {
      "text/plain": [
       "['further',\n",
       " 's',\n",
       " 'that',\n",
       " 'hers',\n",
       " 'as',\n",
       " 'my',\n",
       " 'haven',\n",
       " 'you',\n",
       " 'themselves',\n",
       " 'once']"
      ]
     },
     "execution_count": 175,
     "metadata": {},
     "output_type": "execute_result"
    }
   ],
   "source": [
    "import nltk\n",
    "from nltk.corpus import stopwords\n",
    "\n",
    "eng_stopwords = set(stopwords.words(\"english\"))\n",
    "list(eng_stopwords)[:10]"
   ]
  },
  {
   "cell_type": "markdown",
   "metadata": {},
   "source": [
    "# Stopword percentage"
   ]
  },
  {
   "cell_type": "code",
   "execution_count": 176,
   "metadata": {
    "execution": {
     "iopub.execute_input": "2023-03-31T13:11:35.656608Z",
     "iopub.status.busy": "2023-03-31T13:11:35.656154Z",
     "iopub.status.idle": "2023-03-31T13:11:35.661973Z",
     "shell.execute_reply": "2023-03-31T13:11:35.660844Z",
     "shell.execute_reply.started": "2023-03-31T13:11:35.656572Z"
    }
   },
   "outputs": [],
   "source": [
    "def density_stopword(var):\n",
    "    \"\"\"Takes a string and returns the ratio of stopwords to all words.\"\"\"\n",
    "    cs = 0\n",
    "    for x in nltk.Text(word_tokenize(var)):\n",
    "        if x in STOPWORDS:\n",
    "            cs += 1\n",
    "    return cs/normalization_word(var)"
   ]
  },
  {
   "cell_type": "markdown",
   "metadata": {},
   "source": [
    "## Noun Density"
   ]
  },
  {
   "cell_type": "code",
   "execution_count": 177,
   "metadata": {
    "execution": {
     "iopub.execute_input": "2023-03-31T13:11:35.663742Z",
     "iopub.status.busy": "2023-03-31T13:11:35.663393Z",
     "iopub.status.idle": "2023-03-31T13:11:35.680993Z",
     "shell.execute_reply": "2023-03-31T13:11:35.679836Z",
     "shell.execute_reply.started": "2023-03-31T13:11:35.663709Z"
    }
   },
   "outputs": [],
   "source": [
    "def density_noun(var):\n",
    "    \"\"\"Takes a string and returns the ratio of nouns to all words.\"\"\"\n",
    "    l = []\n",
    "    for x in nltk.pos_tag(word_tokenize(var)):\n",
    "        if x[1][0:2] == 'NN': # all noun tags start with NN\n",
    "            l.append(x)\n",
    "    return len(l)/normalization_word(var)"
   ]
  },
  {
   "cell_type": "markdown",
   "metadata": {},
   "source": [
    "# Feminine and Masculine Words"
   ]
  },
  {
   "cell_type": "code",
   "execution_count": 178,
   "metadata": {
    "execution": {
     "iopub.execute_input": "2023-03-31T13:11:35.683189Z",
     "iopub.status.busy": "2023-03-31T13:11:35.682499Z",
     "iopub.status.idle": "2023-03-31T13:11:35.695503Z",
     "shell.execute_reply": "2023-03-31T13:11:35.693320Z",
     "shell.execute_reply.started": "2023-03-31T13:11:35.683150Z"
    }
   },
   "outputs": [],
   "source": [
    "def count_fem(var):\n",
    "    \"\"\"Takes a string and returns the count of feminine words.\"\"\"\n",
    "    fem_words = 'she her woman herself girl women lady queen princess daughter madam madame wife'.split()\n",
    "    fem_count = 0\n",
    "    var = cleaning(var)\n",
    "    for word in var.split():\n",
    "        if word in fem_words:\n",
    "            fem_count += 1\n",
    "    return fem_count"
   ]
  },
  {
   "cell_type": "code",
   "execution_count": 179,
   "metadata": {
    "execution": {
     "iopub.execute_input": "2023-03-31T13:11:35.698006Z",
     "iopub.status.busy": "2023-03-31T13:11:35.697443Z",
     "iopub.status.idle": "2023-03-31T13:11:35.713983Z",
     "shell.execute_reply": "2023-03-31T13:11:35.710510Z",
     "shell.execute_reply.started": "2023-03-31T13:11:35.697940Z"
    }
   },
   "outputs": [],
   "source": [
    "def count_mas(var):\n",
    "    \"\"\"Takes a string and returns the count of masculine words.\"\"\"\n",
    "    mas_words = 'he his man mr himself boy men gentleman gentlemen king prince son sir husband'.split()\n",
    "    mas_count = 0\n",
    "    var = cleaning(var)\n",
    "    for word in var.split():\n",
    "        if word in mas_words:\n",
    "            mas_count += 1\n",
    "    return mas_count"
   ]
  },
  {
   "cell_type": "code",
   "execution_count": 180,
   "metadata": {
    "execution": {
     "iopub.execute_input": "2023-03-31T13:11:35.718515Z",
     "iopub.status.busy": "2023-03-31T13:11:35.717187Z",
     "iopub.status.idle": "2023-03-31T13:11:35.735677Z",
     "shell.execute_reply": "2023-03-31T13:11:35.732909Z",
     "shell.execute_reply.started": "2023-03-31T13:11:35.718427Z"
    }
   },
   "outputs": [],
   "source": [
    "def fem_to_mas_ratio(var):\n",
    "    \"\"\"Takes a string and returns the ratio of feminine words to masculine words.\"\"\"\n",
    "    fem_count = count_fem(var)\n",
    "    mas_count = count_mas(var)\n",
    "    if fem_count and not mas_count:\n",
    "        fem_mas_ratio = 1\n",
    "    elif not fem_count and not mas_count:\n",
    "        fem_mas_ratio = 0\n",
    "    else:\n",
    "        fem_mas_ratio = fem_count / mas_count\n",
    "    return fem_mas_ratio"
   ]
  },
  {
   "cell_type": "code",
   "execution_count": 181,
   "metadata": {
    "execution": {
     "iopub.execute_input": "2023-03-31T13:11:35.739161Z",
     "iopub.status.busy": "2023-03-31T13:11:35.738055Z",
     "iopub.status.idle": "2023-03-31T13:11:35.782901Z",
     "shell.execute_reply": "2023-03-31T13:11:35.781426Z",
     "shell.execute_reply.started": "2023-03-31T13:11:35.739097Z"
    }
   },
   "outputs": [
    {
     "data": {
      "text/html": [
       "<div>\n",
       "<style scoped>\n",
       "    .dataframe tbody tr th:only-of-type {\n",
       "        vertical-align: middle;\n",
       "    }\n",
       "\n",
       "    .dataframe tbody tr th {\n",
       "        vertical-align: top;\n",
       "    }\n",
       "\n",
       "    .dataframe thead th {\n",
       "        text-align: right;\n",
       "    }\n",
       "</style>\n",
       "<table border=\"1\" class=\"dataframe\">\n",
       "  <thead>\n",
       "    <tr style=\"text-align: right;\">\n",
       "      <th></th>\n",
       "      <th>author</th>\n",
       "      <th>text</th>\n",
       "    </tr>\n",
       "  </thead>\n",
       "  <tbody>\n",
       "    <tr>\n",
       "      <th>0</th>\n",
       "      <td>EAP</td>\n",
       "      <td>This process, however, afforded me no means of...</td>\n",
       "    </tr>\n",
       "    <tr>\n",
       "      <th>1</th>\n",
       "      <td>HPL</td>\n",
       "      <td>It never once occurred to me that the fumbling...</td>\n",
       "    </tr>\n",
       "    <tr>\n",
       "      <th>2</th>\n",
       "      <td>MWS</td>\n",
       "      <td>How lovely is spring As we looked from Windsor...</td>\n",
       "    </tr>\n",
       "  </tbody>\n",
       "</table>\n",
       "</div>"
      ],
      "text/plain": [
       "  author                                               text\n",
       "0    EAP  This process, however, afforded me no means of...\n",
       "1    HPL  It never once occurred to me that the fumbling...\n",
       "2    MWS  How lovely is spring As we looked from Windsor..."
      ]
     },
     "execution_count": 181,
     "metadata": {},
     "output_type": "execute_result"
    }
   ],
   "source": [
    "df = pd.DataFrame([['EAP', eap_s], ['HPL', hpl_s], ['MWS', mws_s]])\n",
    "df.columns = ['author', 'text']\n",
    "df"
   ]
  },
  {
   "cell_type": "code",
   "execution_count": 182,
   "metadata": {
    "execution": {
     "iopub.execute_input": "2023-03-31T13:11:35.785804Z",
     "iopub.status.busy": "2023-03-31T13:11:35.785361Z",
     "iopub.status.idle": "2023-03-31T13:11:35.795169Z",
     "shell.execute_reply": "2023-03-31T13:11:35.793622Z",
     "shell.execute_reply.started": "2023-03-31T13:11:35.785765Z"
    }
   },
   "outputs": [
    {
     "data": {
      "text/plain": [
       "\"\\nfor c in df.columns[2:]:\\n    plt.style.use('seaborn')\\n    sns.barplot(x='author', y=c, data=df)\\n    plt.title('Meta {}'.format(c))\\n    plt.savefig('Meta {}'.format(c))\\n    plt.show()\\n\""
      ]
     },
     "execution_count": 182,
     "metadata": {},
     "output_type": "execute_result"
    }
   ],
   "source": [
    "'''\n",
    "for c in df.columns[2:]:\n",
    "    plt.style.use('seaborn')\n",
    "    sns.barplot(x='author', y=c, data=df)\n",
    "    plt.title('Meta {}'.format(c))\n",
    "    plt.savefig('Meta {}'.format(c))\n",
    "    plt.show()\n",
    "'''"
   ]
  },
  {
   "cell_type": "code",
   "execution_count": 183,
   "metadata": {
    "execution": {
     "iopub.execute_input": "2023-03-31T13:11:35.799379Z",
     "iopub.status.busy": "2023-03-31T13:11:35.798105Z",
     "iopub.status.idle": "2023-03-31T13:11:35.813042Z",
     "shell.execute_reply": "2023-03-31T13:11:35.811336Z",
     "shell.execute_reply.started": "2023-03-31T13:11:35.799320Z"
    }
   },
   "outputs": [
    {
     "data": {
      "text/plain": [
       "\"\\nfig, (ax1, ax2, ax3) = plt.subplots(1, 3, sharey=True)\\nfem_words = 'her she herself girl woman lady queen daughter madam madame wife women princess'.split()\\n\\nplt.suptitle('Normalized Feminine Word Count', y=1.02)\\n\\nxlmt = 0\\nfor auth in [(eap_s_c, 'EAP'), (hpl_s_c, 'HPL'), (mws_s_c, 'MWS')]:\\n    for word in fem_words:\\n        norm_count = auth[0].count(word) / len(train[train.author == auth[1]])\\n        if norm_count > xlmt:\\n            xlmt = norm_count\\n\\nfor ax in ((ax1, eap_s_c, 'darkblue', 'EAP'), (ax2, hpl_s_c, 'darkgreen', 'HPL'), (ax3, mws_s_c, 'darkred', 'MWS')):\\n    y = np.arange(len(fem_words))\\n    x = [ax[1].count(word) / len(train[train.author == ax[3]]) for word in fem_words]\\n    ax[0].barh(y, x, align='center',\\n            color=ax[2], ecolor='black')\\n    ax[0].set_yticks(y)\\n    ax[0].set_yticklabels(fem_words)\\n    ax[0].invert_yaxis()\\n    ax[0].set_title(ax[3])\\n    ax[0].set_xlim([0, xlmt])\\n    \\nplt.tight_layout()\\nplt.savefig('Meta feminine word count')\\nplt.show()\\n\""
      ]
     },
     "execution_count": 183,
     "metadata": {},
     "output_type": "execute_result"
    }
   ],
   "source": [
    "'''\n",
    "fig, (ax1, ax2, ax3) = plt.subplots(1, 3, sharey=True)\n",
    "fem_words = 'her she herself girl woman lady queen daughter madam madame wife women princess'.split()\n",
    "\n",
    "plt.suptitle('Normalized Feminine Word Count', y=1.02)\n",
    "\n",
    "xlmt = 0\n",
    "for auth in [(eap_s_c, 'EAP'), (hpl_s_c, 'HPL'), (mws_s_c, 'MWS')]:\n",
    "    for word in fem_words:\n",
    "        norm_count = auth[0].count(word) / len(train[train.author == auth[1]])\n",
    "        if norm_count > xlmt:\n",
    "            xlmt = norm_count\n",
    "\n",
    "for ax in ((ax1, eap_s_c, 'darkblue', 'EAP'), (ax2, hpl_s_c, 'darkgreen', 'HPL'), (ax3, mws_s_c, 'darkred', 'MWS')):\n",
    "    y = np.arange(len(fem_words))\n",
    "    x = [ax[1].count(word) / len(train[train.author == ax[3]]) for word in fem_words]\n",
    "    ax[0].barh(y, x, align='center',\n",
    "            color=ax[2], ecolor='black')\n",
    "    ax[0].set_yticks(y)\n",
    "    ax[0].set_yticklabels(fem_words)\n",
    "    ax[0].invert_yaxis()\n",
    "    ax[0].set_title(ax[3])\n",
    "    ax[0].set_xlim([0, xlmt])\n",
    "    \n",
    "plt.tight_layout()\n",
    "plt.savefig('Meta feminine word count')\n",
    "plt.show()\n",
    "'''"
   ]
  },
  {
   "cell_type": "code",
   "execution_count": 184,
   "metadata": {
    "execution": {
     "iopub.execute_input": "2023-03-31T13:11:35.816162Z",
     "iopub.status.busy": "2023-03-31T13:11:35.814791Z",
     "iopub.status.idle": "2023-03-31T13:11:35.834125Z",
     "shell.execute_reply": "2023-03-31T13:11:35.832628Z",
     "shell.execute_reply.started": "2023-03-31T13:11:35.816105Z"
    }
   },
   "outputs": [
    {
     "data": {
      "text/plain": [
       "\"\\nfig, (ax1, ax2, ax3) = plt.subplots(1, 3, sharey=True)\\nmas_words = 'he his men man king son himself mr boy gentleman prince sir gentlemen husband mister'.split()\\n\\nplt.suptitle('Normalized Masculine Word Count', y=1.02)\\n\\nxlmt = 0\\nfor auth in [(eap_s_c, 'EAP'), (hpl_s_c, 'HPL'), (mws_s_c, 'MWS')]:\\n    for word in mas_words:\\n        norm_count = auth[0].count(word) / len(train[train.author == auth[1]])\\n        if norm_count > xlmt:\\n            xlmt = norm_count\\n            \\nfor ax in ((ax1, eap_s_c, 'darkblue', 'EAP'), (ax2, hpl_s_c, 'darkgreen', 'HPL'), (ax3, mws_s_c, 'darkred', 'MWS')):\\n    y = np.arange(len(mas_words))\\n    x = [ax[1].count(word) / len(train[train.author == ax[3]]) for word in mas_words]\\n    ax[0].barh(y, x, align='center',\\n            color=ax[2], ecolor='black')\\n    ax[0].set_yticks(y)\\n    ax[0].set_yticklabels(mas_words)\\n    ax[0].invert_yaxis()\\n    ax[0].set_title(ax[3])\\n    ax[0].set_xlim([0, xlmt])\\n    \\nplt.tight_layout()\\nplt.savefig('Meta masculine word count')\\nplt.show()\\n\""
      ]
     },
     "execution_count": 184,
     "metadata": {},
     "output_type": "execute_result"
    }
   ],
   "source": [
    "'''\n",
    "fig, (ax1, ax2, ax3) = plt.subplots(1, 3, sharey=True)\n",
    "mas_words = 'he his men man king son himself mr boy gentleman prince sir gentlemen husband mister'.split()\n",
    "\n",
    "plt.suptitle('Normalized Masculine Word Count', y=1.02)\n",
    "\n",
    "xlmt = 0\n",
    "for auth in [(eap_s_c, 'EAP'), (hpl_s_c, 'HPL'), (mws_s_c, 'MWS')]:\n",
    "    for word in mas_words:\n",
    "        norm_count = auth[0].count(word) / len(train[train.author == auth[1]])\n",
    "        if norm_count > xlmt:\n",
    "            xlmt = norm_count\n",
    "            \n",
    "for ax in ((ax1, eap_s_c, 'darkblue', 'EAP'), (ax2, hpl_s_c, 'darkgreen', 'HPL'), (ax3, mws_s_c, 'darkred', 'MWS')):\n",
    "    y = np.arange(len(mas_words))\n",
    "    x = [ax[1].count(word) / len(train[train.author == ax[3]]) for word in mas_words]\n",
    "    ax[0].barh(y, x, align='center',\n",
    "            color=ax[2], ecolor='black')\n",
    "    ax[0].set_yticks(y)\n",
    "    ax[0].set_yticklabels(mas_words)\n",
    "    ax[0].invert_yaxis()\n",
    "    ax[0].set_title(ax[3])\n",
    "    ax[0].set_xlim([0, xlmt])\n",
    "    \n",
    "plt.tight_layout()\n",
    "plt.savefig('Meta masculine word count')\n",
    "plt.show()\n",
    "'''"
   ]
  },
  {
   "cell_type": "markdown",
   "metadata": {},
   "source": [
    "# Counting of words (a.k.a bag of words)"
   ]
  },
  {
   "cell_type": "code",
   "execution_count": 185,
   "metadata": {
    "execution": {
     "iopub.execute_input": "2023-03-31T13:11:35.836439Z",
     "iopub.status.busy": "2023-03-31T13:11:35.835702Z",
     "iopub.status.idle": "2023-03-31T13:11:35.846958Z",
     "shell.execute_reply": "2023-03-31T13:11:35.845844Z",
     "shell.execute_reply.started": "2023-03-31T13:11:35.836389Z"
    }
   },
   "outputs": [],
   "source": [
    "def transform_tag(var):\n",
    "    \"\"\"Transforms a string to a string of pos_tag\"\"\"\n",
    "    inpt = nltk.pos_tag(word_tokenize(var))\n",
    "    unzipped = zip(*inpt )\n",
    "    return ' '.join([*list(unzipped)[1]])\n"
   ]
  },
  {
   "cell_type": "markdown",
   "metadata": {},
   "source": [
    "## Generation of the tf_idf counting dataFrame"
   ]
  },
  {
   "cell_type": "code",
   "execution_count": 186,
   "metadata": {
    "execution": {
     "iopub.execute_input": "2023-03-31T13:11:35.849112Z",
     "iopub.status.busy": "2023-03-31T13:11:35.848458Z",
     "iopub.status.idle": "2023-03-31T13:11:35.872198Z",
     "shell.execute_reply": "2023-03-31T13:11:35.870208Z",
     "shell.execute_reply.started": "2023-03-31T13:11:35.849071Z"
    }
   },
   "outputs": [],
   "source": [
    "from sklearn.feature_extraction.text import CountVectorizer, TfidfTransformer, TfidfVectorizer"
   ]
  },
  {
   "cell_type": "code",
   "execution_count": 187,
   "metadata": {
    "execution": {
     "iopub.execute_input": "2023-03-31T13:11:35.875304Z",
     "iopub.status.busy": "2023-03-31T13:11:35.874475Z",
     "iopub.status.idle": "2023-03-31T13:11:35.888289Z",
     "shell.execute_reply": "2023-03-31T13:11:35.886654Z",
     "shell.execute_reply.started": "2023-03-31T13:11:35.875258Z"
    }
   },
   "outputs": [],
   "source": [
    "def counting_a(a, analysis):\n",
    "    \"\"\"\n",
    "    Generates the tf-idf counting dataframe. First argument is the n of n-gram. Analysis type is 'word', 'char',\n",
    "    token_pos', etc.\n",
    "    \"\"\"\n",
    "    df1 = tr1.copy()\n",
    "    df= ts1.copy()\n",
    "    \n",
    "    #if we are counting words:\n",
    "    if analysis == \"word\" or analysis == \"char\": \n",
    "        \n",
    "        #check the CountVectorizer doc\n",
    "        #we create a Countvectorizer, called bow_transformer\n",
    "        bow_transformer = CountVectorizer(analyzer = analysis,\n",
    "                                      lowercase = True, #we don't care about place in sentence\n",
    "                                      ngram_range = (a, a),\n",
    "                                      stop_words='english')\n",
    "\n",
    "        #we use bow_transformer to fit and transform our training set\n",
    "        messages_bow = bow_transformer.fit_transform(df1['text'])\n",
    "        \n",
    "        #we use bow_transformer to transform our test set. \n",
    "        #We do not need to train if first because the fitting would recompute the idf, we don't want that\n",
    "        messages_bow_test = bow_transformer.transform(df['text'])\n",
    "    \n",
    "    #if we are counting POS:    \n",
    "    elif analysis == \"token_pos\":\n",
    "        \n",
    "        #this is the punctuation we want to keep\n",
    "        punctuation = r\"(?u)\\b\\w\\w+\\b|!|\\?|\\\"|\\'|\\.|\\,|\\;|\\:|\\$|\\(|\\)|\\--|\\&|\\``|\\'' + PRP$ + WP$\"\n",
    "        #we create a Countvectorizer, called bow_transformer\n",
    "        bow_transformer = CountVectorizer(analyzer = 'word',\n",
    "                                          lowercase = False, #we DO care about place in sentence\n",
    "                                          ngram_range = (a, a),\n",
    "                                          token_pattern =  punctuation, #we DO care about punctuation\n",
    "                                          stop_words='english')\n",
    "        \n",
    "        #we use the transform_tag function to transform the sentence in a sentence of pos tag        \n",
    "        #we use bow_transformer to fit and transform our training set\n",
    "        messages_bow = bow_transformer.fit_transform(df1['text'].apply(transform_tag))\n",
    "        #we use bow_transformer to transform our test set\n",
    "        #We do not need to train if first because the fitting would recompute the idf, we don't want that\n",
    "        messages_bow_test = bow_transformer.transform(df['text'].apply(transform_tag))\n",
    "\n",
    "        \n",
    "    #this is the DataFrame Concerning the regular counting of words\n",
    "    \n",
    "    ##from regular counting to tf idf transformation coefficient\n",
    "\n",
    "    tfidf_transformer = TfidfTransformer().fit(messages_bow)\n",
    "    messages_tfidf = tfidf_transformer.transform(messages_bow)\n",
    "    messages_tfidf_test = tfidf_transformer.transform(messages_bow_test)\n",
    "    \n",
    "    names = bow_transformer.get_feature_names()\n",
    "    \n",
    "    return (messages_tfidf, names, messages_tfidf_test)"
   ]
  },
  {
   "cell_type": "code",
   "execution_count": 188,
   "metadata": {
    "execution": {
     "iopub.execute_input": "2023-03-31T13:11:35.892004Z",
     "iopub.status.busy": "2023-03-31T13:11:35.891358Z",
     "iopub.status.idle": "2023-03-31T13:11:37.405762Z",
     "shell.execute_reply": "2023-03-31T13:11:37.404313Z",
     "shell.execute_reply.started": "2023-03-31T13:11:35.891960Z"
    }
   },
   "outputs": [
    {
     "name": "stdout",
     "output_type": "stream",
     "text": [
      "Shape of Sparse Matrix:  (14684, 143584)\n",
      "Amount of Non-Zero occurences:  154436\n",
      "sparsity: 0.01%\n",
      " \n",
      "Shape of Sparse Matrix Test:  (4895, 143584)\n",
      "Amount of Non-Zero occurences:  5940\n",
      "sparsity: 0.00%\n"
     ]
    },
    {
     "name": "stderr",
     "output_type": "stream",
     "text": [
      "/opt/conda/lib/python3.7/site-packages/sklearn/utils/deprecation.py:87: FutureWarning: Function get_feature_names is deprecated; get_feature_names is deprecated in 1.0 and will be removed in 1.2. Please use get_feature_names_out instead.\n",
      "  warnings.warn(msg, category=FutureWarning)\n"
     ]
    }
   ],
   "source": [
    "#mat_word, name_word, mat_word_test = counting_a(2,'word')\n",
    "mat_word, name_word, mat_word_test = counting_a(2,'word')\n",
    "\n",
    "print ('Shape of Sparse Matrix: ', mat_word.shape)\n",
    "print ('Amount of Non-Zero occurences: ', mat_word.nnz)\n",
    "print ('sparsity: %.2f%%' % (100.0 * mat_word.nnz /\n",
    "                             (mat_word.shape[0] * mat_word.shape[1])))\n",
    "       \n",
    "print(' ')\n",
    "print ('Shape of Sparse Matrix Test: ', mat_word_test.shape)\n",
    "print ('Amount of Non-Zero occurences: ', mat_word_test.nnz)\n",
    "print ('sparsity: %.2f%%' % (100.0 * mat_word_test.nnz /\n",
    "                             (mat_word_test.shape[0] * mat_word_test.shape[1])))\n",
    "                             "
   ]
  },
  {
   "cell_type": "markdown",
   "metadata": {},
   "source": [
    "# Counting of Character (a.k.a bag of character)"
   ]
  },
  {
   "cell_type": "markdown",
   "metadata": {},
   "source": [
    "## Generation of the tf-idf counting dataFrame"
   ]
  },
  {
   "cell_type": "code",
   "execution_count": 189,
   "metadata": {
    "execution": {
     "iopub.execute_input": "2023-03-31T13:11:37.408953Z",
     "iopub.status.busy": "2023-03-31T13:11:37.407322Z",
     "iopub.status.idle": "2023-03-31T13:11:39.787554Z",
     "shell.execute_reply": "2023-03-31T13:11:39.785573Z",
     "shell.execute_reply.started": "2023-03-31T13:11:37.408902Z"
    }
   },
   "outputs": [
    {
     "name": "stdout",
     "output_type": "stream",
     "text": [
      "Shape of Sparse Matrix:  (14684, 8637)\n",
      "Amount of Non-Zero occurences:  1819818\n",
      "sparsity: 1.43%\n",
      " \n",
      "Shape of Sparse Matrix Test:  (4895, 8637)\n",
      "Amount of Non-Zero occurences:  602489\n",
      "sparsity: 1.43%\n"
     ]
    }
   ],
   "source": [
    "mat_char, name_char, mat_char_test = counting_a(3, 'char')\n",
    "\n",
    "print ('Shape of Sparse Matrix: ', mat_char.shape)\n",
    "print ('Amount of Non-Zero occurences: ', mat_char.nnz)\n",
    "print ('sparsity: %.2f%%' % (100.0 * mat_char.nnz /\n",
    "                             (mat_char.shape[0] * mat_char.shape[1])))\n",
    "print(' ')\n",
    "print ('Shape of Sparse Matrix Test: ', mat_char_test.shape)\n",
    "print ('Amount of Non-Zero occurences: ', mat_char_test.nnz)\n",
    "print ('sparsity: %.2f%%' % (100.0 * mat_char_test.nnz /\n",
    "                             (mat_char_test.shape[0] * mat_char_test.shape[1])))"
   ]
  },
  {
   "cell_type": "markdown",
   "metadata": {},
   "source": [
    "# Counting of POS Tag (a.k.a bag of Tag)"
   ]
  },
  {
   "cell_type": "code",
   "execution_count": 190,
   "metadata": {
    "execution": {
     "iopub.execute_input": "2023-03-31T13:11:39.790567Z",
     "iopub.status.busy": "2023-03-31T13:11:39.790113Z",
     "iopub.status.idle": "2023-03-31T13:11:39.802934Z",
     "shell.execute_reply": "2023-03-31T13:11:39.800824Z",
     "shell.execute_reply.started": "2023-03-31T13:11:39.790529Z"
    }
   },
   "outputs": [
    {
     "name": "stdout",
     "output_type": "stream",
     "text": [
      "LS|\\TO|\\VBN|\\''|\\WP|\\UH|\\VBG|\\JJ|\\VBZ|\\--|\\VBP|\\NN|\\DT|\\PRP|\\:|\\WP$|\\NNPS|\\PRP$|\\WDT|\\(|\\)|\\.|\\,|\\``|\\$|\\RB|\\RBR|\\RBS|\\VBD|\\IN|\\FW|\\RP|\\JJR|\\JJS|\\PDT|\\MD|\\VB|\\WRB|\\NNP|\\EX|\\NNS|\\SYM|\\CC|\\CD|\\POS\n"
     ]
    },
    {
     "data": {
      "text/plain": [
       "45"
      ]
     },
     "execution_count": 190,
     "metadata": {},
     "output_type": "execute_result"
    }
   ],
   "source": [
    "#nltk.download('tagsets')\n",
    "tagdict = load('help/tagsets/upenn_tagset.pickle')\n",
    "#list of all the possible tag names\n",
    "print(\"|\\\\\".join(list(tagdict)))\n",
    "\n",
    "#this is the list of the different tokens we will use.\n",
    "len(tagdict)"
   ]
  },
  {
   "cell_type": "markdown",
   "metadata": {},
   "source": [
    "## Generation of the tf-idf counting dataFrame"
   ]
  },
  {
   "cell_type": "code",
   "execution_count": 191,
   "metadata": {
    "execution": {
     "iopub.execute_input": "2023-03-31T13:11:39.805777Z",
     "iopub.status.busy": "2023-03-31T13:11:39.805248Z",
     "iopub.status.idle": "2023-03-31T13:12:19.209151Z",
     "shell.execute_reply": "2023-03-31T13:12:19.207307Z",
     "shell.execute_reply.started": "2023-03-31T13:11:39.805736Z"
    }
   },
   "outputs": [
    {
     "name": "stdout",
     "output_type": "stream",
     "text": [
      "Shape of Sparse Matrix:  (14684, 51924)\n",
      "Amount of Non-Zero occurences:  406850\n",
      "sparsity: 0.05%\n",
      "Shape of Sparse Test Matrix:  (4895, 51924)\n",
      "Amount of Non-Zero occurences:  125737\n",
      "sparsity: 0.05%\n"
     ]
    }
   ],
   "source": [
    "mat_pos, name_pos, mat_pos_test = counting_a(4, 'token_pos')\n",
    "\n",
    "print ('Shape of Sparse Matrix: ', mat_pos.shape)\n",
    "print ('Amount of Non-Zero occurences: ', mat_pos.nnz)\n",
    "print ('sparsity: %.2f%%' % (100.0 * mat_pos.nnz /\n",
    "                             (mat_pos.shape[0] * mat_pos.shape[1])))\n",
    "\n",
    "print ('Shape of Sparse Test Matrix: ', mat_pos_test.shape)\n",
    "print ('Amount of Non-Zero occurences: ', mat_pos_test.nnz)\n",
    "print ('sparsity: %.2f%%' % (100.0 * mat_pos_test.nnz /\n",
    "                             (mat_pos_test.shape[0] * mat_pos_test.shape[1])))"
   ]
  },
  {
   "cell_type": "code",
   "execution_count": 192,
   "metadata": {
    "execution": {
     "iopub.execute_input": "2023-03-31T13:12:19.212078Z",
     "iopub.status.busy": "2023-03-31T13:12:19.211241Z",
     "iopub.status.idle": "2023-03-31T13:12:19.222183Z",
     "shell.execute_reply": "2023-03-31T13:12:19.220058Z",
     "shell.execute_reply.started": "2023-03-31T13:12:19.212022Z"
    }
   },
   "outputs": [],
   "source": [
    "from sklearn.naive_bayes import MultinomialNB\n",
    "from sklearn.feature_extraction.text import CountVectorizer\n",
    "from sklearn.metrics import accuracy_score\n",
    "from sklearn.feature_extraction.text import TfidfVectorizer\n",
    "from sklearn.model_selection import train_test_split\n",
    "from sklearn.svm import SVC\n",
    "from sklearn.model_selection import GridSearchCV"
   ]
  },
  {
   "cell_type": "markdown",
   "metadata": {},
   "source": [
    "# Preprocess text"
   ]
  },
  {
   "cell_type": "code",
   "execution_count": 193,
   "metadata": {
    "execution": {
     "iopub.execute_input": "2023-03-31T13:12:19.225549Z",
     "iopub.status.busy": "2023-03-31T13:12:19.224378Z",
     "iopub.status.idle": "2023-03-31T13:12:20.283179Z",
     "shell.execute_reply": "2023-03-31T13:12:20.281516Z",
     "shell.execute_reply.started": "2023-03-31T13:12:19.225465Z"
    }
   },
   "outputs": [],
   "source": [
    "\n",
    "vectorizer = CountVectorizer(stop_words='english')\n",
    "X_train = vectorizer.fit_transform(df1['text'])\n",
    "X_test = vectorizer.transform(df['text'])"
   ]
  },
  {
   "cell_type": "code",
   "execution_count": 194,
   "metadata": {
    "execution": {
     "iopub.execute_input": "2023-03-31T13:12:20.286029Z",
     "iopub.status.busy": "2023-03-31T13:12:20.285633Z",
     "iopub.status.idle": "2023-03-31T13:12:20.293791Z",
     "shell.execute_reply": "2023-03-31T13:12:20.292241Z",
     "shell.execute_reply.started": "2023-03-31T13:12:20.285995Z"
    }
   },
   "outputs": [
    {
     "data": {
      "text/plain": [
       "<19579x24764 sparse matrix of type '<class 'numpy.int64'>'\n",
       "\twith 220471 stored elements in Compressed Sparse Row format>"
      ]
     },
     "execution_count": 194,
     "metadata": {},
     "output_type": "execute_result"
    }
   ],
   "source": [
    "X_train"
   ]
  },
  {
   "cell_type": "code",
   "execution_count": 195,
   "metadata": {
    "execution": {
     "iopub.execute_input": "2023-03-31T13:12:20.296090Z",
     "iopub.status.busy": "2023-03-31T13:12:20.295064Z",
     "iopub.status.idle": "2023-03-31T13:12:20.306567Z",
     "shell.execute_reply": "2023-03-31T13:12:20.305168Z",
     "shell.execute_reply.started": "2023-03-31T13:12:20.296047Z"
    }
   },
   "outputs": [
    {
     "data": {
      "text/plain": [
       "<3x24764 sparse matrix of type '<class 'numpy.int64'>'\n",
       "\twith 40412 stored elements in Compressed Sparse Row format>"
      ]
     },
     "execution_count": 195,
     "metadata": {},
     "output_type": "execute_result"
    }
   ],
   "source": [
    "X_test"
   ]
  },
  {
   "cell_type": "markdown",
   "metadata": {},
   "source": [
    "## cross-validation"
   ]
  },
  {
   "cell_type": "markdown",
   "metadata": {},
   "source": [
    "## Ensemble method"
   ]
  },
  {
   "cell_type": "code",
   "execution_count": 199,
   "metadata": {
    "execution": {
     "iopub.execute_input": "2023-03-31T13:12:49.070168Z",
     "iopub.status.busy": "2023-03-31T13:12:49.068392Z",
     "iopub.status.idle": "2023-03-31T13:12:49.108943Z",
     "shell.execute_reply": "2023-03-31T13:12:49.106300Z",
     "shell.execute_reply.started": "2023-03-31T13:12:49.070090Z"
    }
   },
   "outputs": [
    {
     "ename": "ValueError",
     "evalue": "Found input variables with inconsistent numbers of samples: [19579, 12530]",
     "output_type": "error",
     "traceback": [
      "\u001b[0;31m---------------------------------------------------------------------------\u001b[0m",
      "\u001b[0;31mValueError\u001b[0m                                Traceback (most recent call last)",
      "\u001b[0;32m/tmp/ipykernel_27/3695047151.py\u001b[0m in \u001b[0;36m<module>\u001b[0;34m\u001b[0m\n\u001b[1;32m      5\u001b[0m \u001b[0;34m\u001b[0m\u001b[0m\n\u001b[1;32m      6\u001b[0m \u001b[0;31m# Train and evaluate model\u001b[0m\u001b[0;34m\u001b[0m\u001b[0;34m\u001b[0m\u001b[0;34m\u001b[0m\u001b[0m\n\u001b[0;32m----> 7\u001b[0;31m \u001b[0mrfc\u001b[0m\u001b[0;34m.\u001b[0m\u001b[0mfit\u001b[0m\u001b[0;34m(\u001b[0m\u001b[0mX_train\u001b[0m\u001b[0;34m,\u001b[0m \u001b[0my_train\u001b[0m\u001b[0;34m)\u001b[0m\u001b[0;34m\u001b[0m\u001b[0;34m\u001b[0m\u001b[0m\n\u001b[0m\u001b[1;32m      8\u001b[0m \u001b[0mscore\u001b[0m \u001b[0;34m=\u001b[0m \u001b[0mrfc\u001b[0m\u001b[0;34m.\u001b[0m\u001b[0mscore\u001b[0m\u001b[0;34m(\u001b[0m\u001b[0mX_test\u001b[0m\u001b[0;34m,\u001b[0m\u001b[0my_pred\u001b[0m\u001b[0;34m)\u001b[0m\u001b[0;34m\u001b[0m\u001b[0;34m\u001b[0m\u001b[0m\n\u001b[1;32m      9\u001b[0m \u001b[0mprint\u001b[0m\u001b[0;34m(\u001b[0m\u001b[0;34m'Random forest score:'\u001b[0m\u001b[0;34m,\u001b[0m \u001b[0mscore\u001b[0m\u001b[0;34m)\u001b[0m\u001b[0;34m\u001b[0m\u001b[0;34m\u001b[0m\u001b[0m\n",
      "\u001b[0;32m/opt/conda/lib/python3.7/site-packages/sklearn/ensemble/_forest.py\u001b[0m in \u001b[0;36mfit\u001b[0;34m(self, X, y, sample_weight)\u001b[0m\n\u001b[1;32m    326\u001b[0m             \u001b[0;32mraise\u001b[0m \u001b[0mValueError\u001b[0m\u001b[0;34m(\u001b[0m\u001b[0;34m\"sparse multilabel-indicator for y is not supported.\"\u001b[0m\u001b[0;34m)\u001b[0m\u001b[0;34m\u001b[0m\u001b[0;34m\u001b[0m\u001b[0m\n\u001b[1;32m    327\u001b[0m         X, y = self._validate_data(\n\u001b[0;32m--> 328\u001b[0;31m             \u001b[0mX\u001b[0m\u001b[0;34m,\u001b[0m \u001b[0my\u001b[0m\u001b[0;34m,\u001b[0m \u001b[0mmulti_output\u001b[0m\u001b[0;34m=\u001b[0m\u001b[0;32mTrue\u001b[0m\u001b[0;34m,\u001b[0m \u001b[0maccept_sparse\u001b[0m\u001b[0;34m=\u001b[0m\u001b[0;34m\"csc\"\u001b[0m\u001b[0;34m,\u001b[0m \u001b[0mdtype\u001b[0m\u001b[0;34m=\u001b[0m\u001b[0mDTYPE\u001b[0m\u001b[0;34m\u001b[0m\u001b[0;34m\u001b[0m\u001b[0m\n\u001b[0m\u001b[1;32m    329\u001b[0m         )\n\u001b[1;32m    330\u001b[0m         \u001b[0;32mif\u001b[0m \u001b[0msample_weight\u001b[0m \u001b[0;32mis\u001b[0m \u001b[0;32mnot\u001b[0m \u001b[0;32mNone\u001b[0m\u001b[0;34m:\u001b[0m\u001b[0;34m\u001b[0m\u001b[0;34m\u001b[0m\u001b[0m\n",
      "\u001b[0;32m/opt/conda/lib/python3.7/site-packages/sklearn/base.py\u001b[0m in \u001b[0;36m_validate_data\u001b[0;34m(self, X, y, reset, validate_separately, **check_params)\u001b[0m\n\u001b[1;32m    579\u001b[0m                 \u001b[0my\u001b[0m \u001b[0;34m=\u001b[0m \u001b[0mcheck_array\u001b[0m\u001b[0;34m(\u001b[0m\u001b[0my\u001b[0m\u001b[0;34m,\u001b[0m \u001b[0;34m**\u001b[0m\u001b[0mcheck_y_params\u001b[0m\u001b[0;34m)\u001b[0m\u001b[0;34m\u001b[0m\u001b[0;34m\u001b[0m\u001b[0m\n\u001b[1;32m    580\u001b[0m             \u001b[0;32melse\u001b[0m\u001b[0;34m:\u001b[0m\u001b[0;34m\u001b[0m\u001b[0;34m\u001b[0m\u001b[0m\n\u001b[0;32m--> 581\u001b[0;31m                 \u001b[0mX\u001b[0m\u001b[0;34m,\u001b[0m \u001b[0my\u001b[0m \u001b[0;34m=\u001b[0m \u001b[0mcheck_X_y\u001b[0m\u001b[0;34m(\u001b[0m\u001b[0mX\u001b[0m\u001b[0;34m,\u001b[0m \u001b[0my\u001b[0m\u001b[0;34m,\u001b[0m \u001b[0;34m**\u001b[0m\u001b[0mcheck_params\u001b[0m\u001b[0;34m)\u001b[0m\u001b[0;34m\u001b[0m\u001b[0;34m\u001b[0m\u001b[0m\n\u001b[0m\u001b[1;32m    582\u001b[0m             \u001b[0mout\u001b[0m \u001b[0;34m=\u001b[0m \u001b[0mX\u001b[0m\u001b[0;34m,\u001b[0m \u001b[0my\u001b[0m\u001b[0;34m\u001b[0m\u001b[0;34m\u001b[0m\u001b[0m\n\u001b[1;32m    583\u001b[0m \u001b[0;34m\u001b[0m\u001b[0m\n",
      "\u001b[0;32m/opt/conda/lib/python3.7/site-packages/sklearn/utils/validation.py\u001b[0m in \u001b[0;36mcheck_X_y\u001b[0;34m(X, y, accept_sparse, accept_large_sparse, dtype, order, copy, force_all_finite, ensure_2d, allow_nd, multi_output, ensure_min_samples, ensure_min_features, y_numeric, estimator)\u001b[0m\n\u001b[1;32m    979\u001b[0m     \u001b[0my\u001b[0m \u001b[0;34m=\u001b[0m \u001b[0m_check_y\u001b[0m\u001b[0;34m(\u001b[0m\u001b[0my\u001b[0m\u001b[0;34m,\u001b[0m \u001b[0mmulti_output\u001b[0m\u001b[0;34m=\u001b[0m\u001b[0mmulti_output\u001b[0m\u001b[0;34m,\u001b[0m \u001b[0my_numeric\u001b[0m\u001b[0;34m=\u001b[0m\u001b[0my_numeric\u001b[0m\u001b[0;34m)\u001b[0m\u001b[0;34m\u001b[0m\u001b[0;34m\u001b[0m\u001b[0m\n\u001b[1;32m    980\u001b[0m \u001b[0;34m\u001b[0m\u001b[0m\n\u001b[0;32m--> 981\u001b[0;31m     \u001b[0mcheck_consistent_length\u001b[0m\u001b[0;34m(\u001b[0m\u001b[0mX\u001b[0m\u001b[0;34m,\u001b[0m \u001b[0my\u001b[0m\u001b[0;34m)\u001b[0m\u001b[0;34m\u001b[0m\u001b[0;34m\u001b[0m\u001b[0m\n\u001b[0m\u001b[1;32m    982\u001b[0m \u001b[0;34m\u001b[0m\u001b[0m\n\u001b[1;32m    983\u001b[0m     \u001b[0;32mreturn\u001b[0m \u001b[0mX\u001b[0m\u001b[0;34m,\u001b[0m \u001b[0my\u001b[0m\u001b[0;34m\u001b[0m\u001b[0;34m\u001b[0m\u001b[0m\n",
      "\u001b[0;32m/opt/conda/lib/python3.7/site-packages/sklearn/utils/validation.py\u001b[0m in \u001b[0;36mcheck_consistent_length\u001b[0;34m(*arrays)\u001b[0m\n\u001b[1;32m    332\u001b[0m         raise ValueError(\n\u001b[1;32m    333\u001b[0m             \u001b[0;34m\"Found input variables with inconsistent numbers of samples: %r\"\u001b[0m\u001b[0;34m\u001b[0m\u001b[0;34m\u001b[0m\u001b[0m\n\u001b[0;32m--> 334\u001b[0;31m             \u001b[0;34m%\u001b[0m \u001b[0;34m[\u001b[0m\u001b[0mint\u001b[0m\u001b[0;34m(\u001b[0m\u001b[0ml\u001b[0m\u001b[0;34m)\u001b[0m \u001b[0;32mfor\u001b[0m \u001b[0ml\u001b[0m \u001b[0;32min\u001b[0m \u001b[0mlengths\u001b[0m\u001b[0;34m]\u001b[0m\u001b[0;34m\u001b[0m\u001b[0;34m\u001b[0m\u001b[0m\n\u001b[0m\u001b[1;32m    335\u001b[0m         )\n\u001b[1;32m    336\u001b[0m \u001b[0;34m\u001b[0m\u001b[0m\n",
      "\u001b[0;31mValueError\u001b[0m: Found input variables with inconsistent numbers of samples: [19579, 12530]"
     ]
    }
   ],
   "source": [
    "from sklearn.ensemble import RandomForestClassifier\n",
    "\n",
    "# Create random forest classifier\n",
    "rfc = RandomForestClassifier(n_estimators=100, max_depth=10)\n",
    "\n",
    "# Train and evaluate model\n",
    "rfc.fit(X_train, y_train)\n",
    "score = rfc.score(X_test,y_pred)\n",
    "print('Random forest score:', score)\n"
   ]
  },
  {
   "cell_type": "markdown",
   "metadata": {},
   "source": [
    "# Feature Engineering"
   ]
  },
  {
   "cell_type": "code",
   "execution_count": 200,
   "metadata": {
    "execution": {
     "iopub.execute_input": "2023-03-31T13:12:53.201886Z",
     "iopub.status.busy": "2023-03-31T13:12:53.201386Z",
     "iopub.status.idle": "2023-03-31T13:12:53.371020Z",
     "shell.execute_reply": "2023-03-31T13:12:53.369483Z",
     "shell.execute_reply.started": "2023-03-31T13:12:53.201844Z"
    }
   },
   "outputs": [
    {
     "name": "stdout",
     "output_type": "stream",
     "text": [
      "  (0, 1)\t1.0\n",
      "  (1, 2)\t1.0\n",
      "  (2, 3)\t1.0\n",
      "  (3, 0)\t1.0\n",
      "0        0\n",
      "1        0\n",
      "2        0\n",
      "3        0\n",
      "4        0\n",
      "        ..\n",
      "19574    0\n",
      "19575    0\n",
      "19576    0\n",
      "19577    0\n",
      "19578    0\n",
      "Name: has_horror, Length: 19579, dtype: int64\n"
     ]
    }
   ],
   "source": [
    "df1['text_length'] = df1['text'].apply(len)\n",
    "df1['unique_words'] = df1['text'].apply(lambda x: len(set(x.split())))\n",
    "df1['has_horror'] = df1['text'].apply(lambda x: 1 if 'horror' in x else 0)\n",
    "\n",
    "# Preprocess text\n",
    "vectorizer = TfidfVectorizer(stop_words='english')\n",
    "X_train = vectorizer.fit_transform(df1[['text', 'text_length', 'unique_words', 'has_horror']])\n",
    "print(X_train)\n",
    "print(df1['has_horror'])"
   ]
  },
  {
   "cell_type": "markdown",
   "metadata": {
    "execution": {
     "iopub.execute_input": "2023-03-31T12:23:40.993654Z",
     "iopub.status.busy": "2023-03-31T12:23:40.993114Z",
     "iopub.status.idle": "2023-03-31T12:23:41.001602Z",
     "shell.execute_reply": "2023-03-31T12:23:40.999748Z",
     "shell.execute_reply.started": "2023-03-31T12:23:40.993615Z"
    }
   },
   "source": [
    "# Feature selection"
   ]
  },
  {
   "cell_type": "code",
   "execution_count": 201,
   "metadata": {
    "execution": {
     "iopub.execute_input": "2023-03-31T13:12:57.286312Z",
     "iopub.status.busy": "2023-03-31T13:12:57.285344Z",
     "iopub.status.idle": "2023-03-31T13:12:57.292054Z",
     "shell.execute_reply": "2023-03-31T13:12:57.290644Z",
     "shell.execute_reply.started": "2023-03-31T13:12:57.286266Z"
    }
   },
   "outputs": [],
   "source": [
    "from sklearn.feature_selection import SelectKBest, chi2"
   ]
  },
  {
   "cell_type": "markdown",
   "metadata": {},
   "source": [
    "### Perform chi-squared feature selection"
   ]
  },
  {
   "cell_type": "code",
   "execution_count": 205,
   "metadata": {
    "execution": {
     "iopub.execute_input": "2023-03-31T13:14:35.215566Z",
     "iopub.status.busy": "2023-03-31T13:14:35.214794Z",
     "iopub.status.idle": "2023-03-31T13:14:35.235115Z",
     "shell.execute_reply": "2023-03-31T13:14:35.232826Z",
     "shell.execute_reply.started": "2023-03-31T13:14:35.215519Z"
    }
   },
   "outputs": [
    {
     "name": "stdout",
     "output_type": "stream",
     "text": [
      "19579\n"
     ]
    },
    {
     "data": {
      "text/plain": [
       "SelectKBest(k='all', score_func=<function chi2 at 0x7fd6bd50d8c0>)"
      ]
     },
     "execution_count": 205,
     "metadata": {},
     "output_type": "execute_result"
    }
   ],
   "source": [
    "k = 1000 # number of features to select\n",
    "selector = SelectKBest(chi2, k='all')\n",
    "print(len(df1['author']))\n",
    "selector.fit(X_train, df1['author'][:X_train.shape[0]])\n",
    "selector.fit(X_train, df1['author'][:X_train.shape[0]])"
   ]
  },
  {
   "cell_type": "code",
   "execution_count": 206,
   "metadata": {
    "execution": {
     "iopub.execute_input": "2023-03-31T13:14:38.087860Z",
     "iopub.status.busy": "2023-03-31T13:14:38.087342Z",
     "iopub.status.idle": "2023-03-31T13:14:38.101983Z",
     "shell.execute_reply": "2023-03-31T13:14:38.100385Z",
     "shell.execute_reply.started": "2023-03-31T13:14:38.087816Z"
    }
   },
   "outputs": [
    {
     "name": "stderr",
     "output_type": "stream",
     "text": [
      "/opt/conda/lib/python3.7/site-packages/sklearn/utils/deprecation.py:87: FutureWarning: Function get_feature_names is deprecated; get_feature_names is deprecated in 1.0 and will be removed in 1.2. Please use get_feature_names_out instead.\n",
      "  warnings.warn(msg, category=FutureWarning)\n"
     ]
    }
   ],
   "source": [
    "selected_features = selector.get_support(indices=True)\n",
    "feature_names = vectorizer.get_feature_names()\n",
    "selected_feature_names = [feature_names[i] for i in selected_features]\n",
    "pd.DataFrame(selected_feature_names, columns=['feature_name']).to_csv('selected_features.csv', index=False)"
   ]
  },
  {
   "cell_type": "markdown",
   "metadata": {},
   "source": [
    "### Define target variable"
   ]
  },
  {
   "cell_type": "code",
   "execution_count": 207,
   "metadata": {
    "execution": {
     "iopub.execute_input": "2023-03-31T13:14:40.729834Z",
     "iopub.status.busy": "2023-03-31T13:14:40.729039Z",
     "iopub.status.idle": "2023-03-31T13:14:40.741999Z",
     "shell.execute_reply": "2023-03-31T13:14:40.740338Z",
     "shell.execute_reply.started": "2023-03-31T13:14:40.729784Z"
    }
   },
   "outputs": [
    {
     "data": {
      "text/plain": [
       "0        EAP\n",
       "1        HPL\n",
       "2        EAP\n",
       "3        MWS\n",
       "4        HPL\n",
       "        ... \n",
       "19574    EAP\n",
       "19575    EAP\n",
       "19576    EAP\n",
       "19577    EAP\n",
       "19578    HPL\n",
       "Name: author, Length: 19579, dtype: object"
      ]
     },
     "execution_count": 207,
     "metadata": {},
     "output_type": "execute_result"
    }
   ],
   "source": [
    "y_train = df1['author']\n",
    "y_train"
   ]
  },
  {
   "cell_type": "markdown",
   "metadata": {},
   "source": [
    "# Evaluate model"
   ]
  },
  {
   "cell_type": "code",
   "execution_count": 214,
   "metadata": {
    "execution": {
     "iopub.execute_input": "2023-03-31T13:17:33.414355Z",
     "iopub.status.busy": "2023-03-31T13:17:33.413599Z",
     "iopub.status.idle": "2023-03-31T13:17:33.424298Z",
     "shell.execute_reply": "2023-03-31T13:17:33.422325Z",
     "shell.execute_reply.started": "2023-03-31T13:17:33.414295Z"
    }
   },
   "outputs": [
    {
     "name": "stdout",
     "output_type": "stream",
     "text": [
      "Accuracy: 1.0\n"
     ]
    }
   ],
   "source": [
    "accuracy = accuracy_score(df['author'], y_pred)\n",
    "print('Accuracy:', accuracy)"
   ]
  },
  {
   "cell_type": "code",
   "execution_count": 215,
   "metadata": {
    "execution": {
     "iopub.execute_input": "2023-03-31T13:17:39.589093Z",
     "iopub.status.busy": "2023-03-31T13:17:39.588115Z",
     "iopub.status.idle": "2023-03-31T13:17:39.849828Z",
     "shell.execute_reply": "2023-03-31T13:17:39.848458Z",
     "shell.execute_reply.started": "2023-03-31T13:17:39.589047Z"
    }
   },
   "outputs": [
    {
     "data": {
      "text/plain": [
       "<AxesSubplot:xlabel='author', ylabel='count'>"
      ]
     },
     "execution_count": 215,
     "metadata": {},
     "output_type": "execute_result"
    },
    {
     "data": {
      "image/png": "[encoded data removed]",
      "text/plain": [
       "<Figure size 640x480 with 1 Axes>"
      ]
     },
     "metadata": {},
     "output_type": "display_data"
    }
   ],
   "source": [
    "import seaborn as sns\n",
    "\n",
    "sns.countplot(x='author', data=df1)\n"
   ]
  },
  {
   "cell_type": "markdown",
   "metadata": {},
   "source": [
    "# WordCloud"
   ]
  },
  {
   "cell_type": "code",
   "execution_count": 216,
   "metadata": {
    "execution": {
     "iopub.execute_input": "2023-03-31T13:17:48.384939Z",
     "iopub.status.busy": "2023-03-31T13:17:48.384499Z",
     "iopub.status.idle": "2023-03-31T13:17:52.474782Z",
     "shell.execute_reply": "2023-03-31T13:17:52.472853Z",
     "shell.execute_reply.started": "2023-03-31T13:17:48.384890Z"
    }
   },
   "outputs": [
    {
     "data": {
      "image/png": "[encoded data removed]",
      "text/plain": [
       "<Figure size 800x800 with 1 Axes>"
      ]
     },
     "metadata": {},
     "output_type": "display_data"
    }
   ],
   "source": [
    "from wordcloud import WordCloud\n",
    "\n",
    "text = ' '.join(df1['text'].tolist())\n",
    "\n",
    "wordcloud = WordCloud(width=800, height=800, background_color='white').generate(text)\n",
    "\n",
    "plt.figure(figsize=(8,8))\n",
    "plt.imshow(wordcloud, interpolation='bilinear')\n",
    "plt.axis('off')\n",
    "plt.show()\n"
   ]
  },
  {
   "cell_type": "markdown",
   "metadata": {},
   "source": [
    "## Scatter plot"
   ]
  },
  {
   "cell_type": "code",
   "execution_count": 217,
   "metadata": {
    "execution": {
     "iopub.execute_input": "2023-03-31T13:20:37.712973Z",
     "iopub.status.busy": "2023-03-31T13:20:37.712397Z",
     "iopub.status.idle": "2023-03-31T13:20:38.855318Z",
     "shell.execute_reply": "2023-03-31T13:20:38.853876Z",
     "shell.execute_reply.started": "2023-03-31T13:20:37.712927Z"
    }
   },
   "outputs": [
    {
     "data": {
      "text/plain": [
       "Text(0, 0.5, 'PC2')"
      ]
     },
     "execution_count": 217,
     "metadata": {},
     "output_type": "execute_result"
    },
    {
     "data": {
      "image/png": "[encoded data removed]",
      "text/plain": [
       "<Figure size 640x480 with 1 Axes>"
      ]
     },
     "metadata": {},
     "output_type": "display_data"
    }
   ],
   "source": [
    "# Define a mapping of author names to colors\n",
    "color_map = {'EAP': 'red', 'HPL': 'blue', 'MWS': 'green'}\n",
    "\n",
    "# Convert the author names to colors\n",
    "colors = [color_map[author] for author in df1['author']]\n",
    "\n",
    "# Plot the scatter plot with the new colors\n",
    "plt.scatter(X_pca[:, 0], X_pca[:, 1], c=colors, alpha=0.5)\n",
    "plt.xlabel('PC1')\n",
    "plt.ylabel('PC2')\n"
   ]
  },
  {
   "cell_type": "markdown",
   "metadata": {},
   "source": [
    "# Hyperparameter"
   ]
  },
  {
   "cell_type": "code",
   "execution_count": 218,
   "metadata": {
    "execution": {
     "iopub.execute_input": "2023-03-31T13:20:40.805931Z",
     "iopub.status.busy": "2023-03-31T13:20:40.805393Z",
     "iopub.status.idle": "2023-03-31T13:20:40.816506Z",
     "shell.execute_reply": "2023-03-31T13:20:40.814499Z",
     "shell.execute_reply.started": "2023-03-31T13:20:40.805886Z"
    }
   },
   "outputs": [],
   "source": [
    "from sklearn.model_selection import GridSearchCV\n",
    "from sklearn.pipeline import Pipeline\n",
    "from sklearn.feature_extraction.text import TfidfVectorizer\n",
    "from sklearn.linear_model import LogisticRegression\n",
    "\n",
    "# Define pipeline for preprocessing and modeling\n",
    "pipe = Pipeline([\n",
    "    ('tfidf', TfidfVectorizer()),\n",
    "    ('clf', LogisticRegression(max_iter=5000))\n",
    "])\n",
    "\n",
    "# Define parameter grid for GridSearchCV\n",
    "param_grid = {\n",
    "    'tfidf__max_features': [1000, 5000, 10000],\n",
    "    'tfidf__ngram_range': [(1, 1), (1, 2)],\n",
    "    'clf__C': [0.1, 1, 10]\n",
    "}\n"
   ]
  },
  {
   "cell_type": "markdown",
   "metadata": {
    "execution": {
     "iopub.execute_input": "2023-03-21T05:46:53.572755Z",
     "iopub.status.busy": "2023-03-21T05:46:53.572410Z",
     "iopub.status.idle": "2023-03-21T05:46:53.580182Z",
     "shell.execute_reply": "2023-03-21T05:46:53.578382Z",
     "shell.execute_reply.started": "2023-03-21T05:46:53.572724Z"
    }
   },
   "source": [
    "\n",
    "# Sample Submission"
   ]
  },
  {
   "cell_type": "code",
   "execution_count": 219,
   "metadata": {
    "execution": {
     "iopub.execute_input": "2023-03-31T13:20:49.415177Z",
     "iopub.status.busy": "2023-03-31T13:20:49.413864Z",
     "iopub.status.idle": "2023-03-31T13:20:49.451719Z",
     "shell.execute_reply": "2023-03-31T13:20:49.450353Z",
     "shell.execute_reply.started": "2023-03-31T13:20:49.415075Z"
    }
   },
   "outputs": [
    {
     "data": {
      "text/html": [
       "<div>\n",
       "<style scoped>\n",
       "    .dataframe tbody tr th:only-of-type {\n",
       "        vertical-align: middle;\n",
       "    }\n",
       "\n",
       "    .dataframe tbody tr th {\n",
       "        vertical-align: top;\n",
       "    }\n",
       "\n",
       "    .dataframe thead th {\n",
       "        text-align: right;\n",
       "    }\n",
       "</style>\n",
       "<table border=\"1\" class=\"dataframe\">\n",
       "  <thead>\n",
       "    <tr style=\"text-align: right;\">\n",
       "      <th></th>\n",
       "      <th>id</th>\n",
       "      <th>EAP</th>\n",
       "      <th>HPL</th>\n",
       "      <th>MWS</th>\n",
       "    </tr>\n",
       "  </thead>\n",
       "  <tbody>\n",
       "    <tr>\n",
       "      <th>0</th>\n",
       "      <td>id02310</td>\n",
       "      <td>0.403494</td>\n",
       "      <td>0.287808</td>\n",
       "      <td>0.308698</td>\n",
       "    </tr>\n",
       "    <tr>\n",
       "      <th>1</th>\n",
       "      <td>id24541</td>\n",
       "      <td>0.403494</td>\n",
       "      <td>0.287808</td>\n",
       "      <td>0.308698</td>\n",
       "    </tr>\n",
       "    <tr>\n",
       "      <th>2</th>\n",
       "      <td>id00134</td>\n",
       "      <td>0.403494</td>\n",
       "      <td>0.287808</td>\n",
       "      <td>0.308698</td>\n",
       "    </tr>\n",
       "    <tr>\n",
       "      <th>3</th>\n",
       "      <td>id27757</td>\n",
       "      <td>0.403494</td>\n",
       "      <td>0.287808</td>\n",
       "      <td>0.308698</td>\n",
       "    </tr>\n",
       "    <tr>\n",
       "      <th>4</th>\n",
       "      <td>id04081</td>\n",
       "      <td>0.403494</td>\n",
       "      <td>0.287808</td>\n",
       "      <td>0.308698</td>\n",
       "    </tr>\n",
       "    <tr>\n",
       "      <th>...</th>\n",
       "      <td>...</td>\n",
       "      <td>...</td>\n",
       "      <td>...</td>\n",
       "      <td>...</td>\n",
       "    </tr>\n",
       "    <tr>\n",
       "      <th>8387</th>\n",
       "      <td>id11749</td>\n",
       "      <td>0.403494</td>\n",
       "      <td>0.287808</td>\n",
       "      <td>0.308698</td>\n",
       "    </tr>\n",
       "    <tr>\n",
       "      <th>8388</th>\n",
       "      <td>id10526</td>\n",
       "      <td>0.403494</td>\n",
       "      <td>0.287808</td>\n",
       "      <td>0.308698</td>\n",
       "    </tr>\n",
       "    <tr>\n",
       "      <th>8389</th>\n",
       "      <td>id13477</td>\n",
       "      <td>0.403494</td>\n",
       "      <td>0.287808</td>\n",
       "      <td>0.308698</td>\n",
       "    </tr>\n",
       "    <tr>\n",
       "      <th>8390</th>\n",
       "      <td>id13761</td>\n",
       "      <td>0.403494</td>\n",
       "      <td>0.287808</td>\n",
       "      <td>0.308698</td>\n",
       "    </tr>\n",
       "    <tr>\n",
       "      <th>8391</th>\n",
       "      <td>id04282</td>\n",
       "      <td>0.403494</td>\n",
       "      <td>0.287808</td>\n",
       "      <td>0.308698</td>\n",
       "    </tr>\n",
       "  </tbody>\n",
       "</table>\n",
       "<p>8392 rows × 4 columns</p>\n",
       "</div>"
      ],
      "text/plain": [
       "           id       EAP       HPL       MWS\n",
       "0     id02310  0.403494  0.287808  0.308698\n",
       "1     id24541  0.403494  0.287808  0.308698\n",
       "2     id00134  0.403494  0.287808  0.308698\n",
       "3     id27757  0.403494  0.287808  0.308698\n",
       "4     id04081  0.403494  0.287808  0.308698\n",
       "...       ...       ...       ...       ...\n",
       "8387  id11749  0.403494  0.287808  0.308698\n",
       "8388  id10526  0.403494  0.287808  0.308698\n",
       "8389  id13477  0.403494  0.287808  0.308698\n",
       "8390  id13761  0.403494  0.287808  0.308698\n",
       "8391  id04282  0.403494  0.287808  0.308698\n",
       "\n",
       "[8392 rows x 4 columns]"
      ]
     },
     "execution_count": 219,
     "metadata": {},
     "output_type": "execute_result"
    }
   ],
   "source": [
    "sample = pd.read_csv(\"/kaggle/input/heber-data-science-spooky-author-classification/sample_submission/sample_submission.csv\")\n",
    "sample"
   ]
  },
  {
   "cell_type": "code",
   "execution_count": 220,
   "metadata": {
    "execution": {
     "iopub.execute_input": "2023-03-31T13:20:50.604134Z",
     "iopub.status.busy": "2023-03-31T13:20:50.603675Z",
     "iopub.status.idle": "2023-03-31T13:20:50.614084Z",
     "shell.execute_reply": "2023-03-31T13:20:50.612238Z",
     "shell.execute_reply.started": "2023-03-31T13:20:50.604098Z"
    }
   },
   "outputs": [],
   "source": [
    "result = sample[['id', 'EAP', 'HPL', 'MWS']]\n"
   ]
  },
  {
   "cell_type": "code",
   "execution_count": 221,
   "metadata": {
    "execution": {
     "iopub.execute_input": "2023-03-31T13:20:51.904253Z",
     "iopub.status.busy": "2023-03-31T13:20:51.903764Z",
     "iopub.status.idle": "2023-03-31T13:20:51.959116Z",
     "shell.execute_reply": "2023-03-31T13:20:51.957695Z",
     "shell.execute_reply.started": "2023-03-31T13:20:51.904191Z"
    }
   },
   "outputs": [],
   "source": [
    "result.to_csv(\"submission.csv\", index=False)\n",
    " "
   ]
  }
 ],
 "metadata": {
  "kernelspec": {
   "display_name": "Python 3 (ipykernel)",
   "language": "python",
   "name": "python3"
  },
  "language_info": {
   "codemirror_mode": {
    "name": "ipython",
    "version": 3
   },
   "file_extension": ".py",
   "mimetype": "text/x-python",
   "name": "python",
   "nbconvert_exporter": "python",
   "pygments_lexer": "ipython3",
   "version": "3.9.13"
  }
 },
 "nbformat": 4,
 "nbformat_minor": 4
}
